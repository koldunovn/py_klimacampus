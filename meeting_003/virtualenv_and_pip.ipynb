{
 "metadata": {
  "name": "",
  "signature": "sha256:b7d3ca90d36b3ded194afec86c4727bfd174544b8362f02a7b4d6e954445f113"
 },
 "nbformat": 3,
 "nbformat_minor": 0,
 "worksheets": [
  {
   "cells": [
    {
     "cell_type": "heading",
     "level": 1,
     "metadata": {},
     "source": [
      "How to Stop be Dependent on CIS and Start Living (virtualenv and pip)"
     ]
    },
    {
     "cell_type": "heading",
     "level": 2,
     "metadata": {},
     "source": [
      "*virtualenv*"
     ]
    },
    {
     "cell_type": "markdown",
     "metadata": {},
     "source": [
      "[virtualenv](http://www.virtualenv.org/en/latest/virtualenv.html) is a tool to create isolated Python environments."
     ]
    },
    {
     "cell_type": "markdown",
     "metadata": {},
     "source": [
      "Create virtual environment:\n",
      "\n",
      "    virtualenv myEnv"
     ]
    },
    {
     "cell_type": "markdown",
     "metadata": {},
     "source": [
      "Run virtual environment:\n",
      "\n",
      "    source myEnv/bin/activate\n",
      "    \n",
      "On CIS computers it will be:\n",
      "\n",
      "    source myEnv/bin/activate.csh"
     ]
    },
    {
     "cell_type": "markdown",
     "metadata": {},
     "source": [
      "Deactivete virtual environment:\n",
      "\n",
      "    deactivate"
     ]
    },
    {
     "cell_type": "markdown",
     "metadata": {},
     "source": [
      "If you build with \n",
      "\n",
      "    virtualenv --system-site-packages ENV \n",
      "    \n",
      "your virtual environment will inherit packages from /usr/lib/python2.7/site-packages (or wherever your global site-packages directory is)."
     ]
    },
    {
     "cell_type": "heading",
     "level": 2,
     "metadata": {},
     "source": [
      "pip"
     ]
    },
    {
     "cell_type": "markdown",
     "metadata": {},
     "source": [
      "[Pip](http://www.pip-installer.org/en/latest/) is a tool for installing Python packages from [PyPI - the Python Package Index](https://pypi.python.org/pypi)"
     ]
    },
    {
     "cell_type": "markdown",
     "metadata": {},
     "source": [
      "Install some package:\n",
      "\n",
      "    pip install SomePackage"
     ]
    },
    {
     "cell_type": "markdown",
     "metadata": {},
     "source": [
      "Upgrade a package:\n",
      "\n",
      "    pip install --upgrade SomePackage"
     ]
    },
    {
     "cell_type": "markdown",
     "metadata": {},
     "source": [
      "Uninstall a package:\n",
      "\n",
      "    pip uninstall SomePackage"
     ]
    },
    {
     "cell_type": "code",
     "collapsed": false,
     "input": [],
     "language": "python",
     "metadata": {},
     "outputs": []
    }
   ],
   "metadata": {}
  }
 ]
}