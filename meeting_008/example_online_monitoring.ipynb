{
 "metadata": {
  "name": "",
  "signature": "sha256:fac4b1637a90bfd73c3740efc01589876e6df8809b18211981155d2a8885a413"
 },
 "nbformat": 3,
 "nbformat_minor": 0,
 "worksheets": [
  {
   "cells": [
    {
     "cell_type": "markdown",
     "metadata": {},
     "source": [
      "Data\n",
      "\n",
      "[Near-Real-Time DMSP SSM/I-SSMIS Daily Polar Gridded Sea Ice Concentrations](http://nsidc.org/data/nsidc-0081)"
     ]
    },
    {
     "cell_type": "heading",
     "level": 2,
     "metadata": {},
     "source": [
      "1. Create IPython notebook with monitoring"
     ]
    },
    {
     "cell_type": "markdown",
     "metadata": {},
     "source": [
      "We create notebook `plot_nrt_seaice.ipynb`, that download the latest sea ice concentration data and plot them."
     ]
    },
    {
     "cell_type": "heading",
     "level": 2,
     "metadata": {},
     "source": [
      "2. Convert to html and remove code in the process"
     ]
    },
    {
     "cell_type": "markdown",
     "metadata": {},
     "source": [
      "For this we have to modify one of the templates. Create file `full_noinput.tpl` with the following code inside:\n",
      "    \n",
      "    {%- extends 'full.tpl' -%}\n",
      "\n",
      "    {% block input_group -%}\n",
      "    {% endblock input_group %}"
     ]
    },
    {
     "cell_type": "markdown",
     "metadata": {},
     "source": [
      "run nbconvert:\n",
      "\n",
      "    ipython nbconvert --to html --template full_noinput.tpl plot_nrt_seaice.ipynb"
     ]
    },
    {
     "cell_type": "heading",
     "level": 2,
     "metadata": {},
     "source": [
      "3. Run your IPython notebook from comand line"
     ]
    },
    {
     "cell_type": "markdown",
     "metadata": {},
     "source": [
      "There is a nice module called [runipy](https://github.com/paulgb/runipy) that allows you to do exactly this."
     ]
    },
    {
     "cell_type": "markdown",
     "metadata": {},
     "source": [
      "Installation:\n",
      "\n",
      "    pip install runipy\n",
      "    \n",
      "might also need:\n",
      "    \n",
      "    pip install pyreadline\n",
      "    pip install Sphinx\n",
      "    pip install numpydoc\n",
      "    pip install gnureadline\n",
      "    \n",
      "\n",
      "or for conda users it's just:\n",
      "\n",
      "    conda install runipy"
     ]
    },
    {
     "cell_type": "markdown",
     "metadata": {},
     "source": [
      "Usage:\n",
      "\n",
      "    runipy -o plot_nrt_seaice.ipynb    "
     ]
    },
    {
     "cell_type": "heading",
     "level": 2,
     "metadata": {},
     "source": [
      "4. Run your IPython notebook on schedule"
     ]
    },
    {
     "cell_type": "markdown",
     "metadata": {},
     "source": [
      "One might just use `cron` for this. But for example `wizard` does not have `cron` installed for users. There is python solution called [schedule](https://github.com/dbader/schedule)."
     ]
    },
    {
     "cell_type": "code",
     "collapsed": false,
     "input": [
      "import schedule\n",
      "import time\n",
      "import os\n",
      "\n",
      "def job():\n",
      "    print(\"I'm working...\")\n",
      "    os.system('runipy -o plot_nrt_seaice.ipynb')\n",
      "    os.system('ipython nbconvert --to html --template full_noinput.tpl plot_nrt_seaice.ipynb')\n",
      "\n",
      "\n",
      "schedule.every(30).minutes.do(job)\n",
      "schedule.run_all()\n",
      "\n",
      "while True:\n",
      "    schedule.run_pending()\n",
      "    time.sleep(1)\n"
     ],
     "language": "python",
     "metadata": {},
     "outputs": []
    },
    {
     "cell_type": "heading",
     "level": 2,
     "metadata": {},
     "source": [
      "5. Put results online "
     ]
    },
    {
     "cell_type": "markdown",
     "metadata": {},
     "source": [
      "Any place where you can put files is fine. Easiest solution from KlimaCampus is our ftp server."
     ]
    },
    {
     "cell_type": "code",
     "collapsed": false,
     "input": [
      "import schedule\n",
      "import time\n",
      "import os\n",
      "from ftplib import FTP\n",
      "\n",
      "def job():\n",
      "    print(\"I'm working...\")\n",
      "    os.system('runipy -o plot_nrt_seaice.ipynb')\n",
      "    os.system('ipython nbconvert --to html --template full_noinput.tpl plot_nrt_seaice.ipynb')\n",
      "\n",
      "    ftp = FTP('ftp.zmaw.de')\n",
      "    ftp.login(user='****', passwd='****')\n",
      "    ftp.cwd('outgoing/koldunov')\n",
      "    ffile = open('plot_nrt_seaice.html','rb') \n",
      "    ftp.storbinary('STOR plot_nrt_seaice.html', ffile)\n",
      "    ffile.close()\n",
      "    ftp.quit()\n",
      "\n",
      "schedule.every(30).minutes.do(job)\n",
      "schedule.run_all()\n",
      "\n",
      "while True:\n",
      "    schedule.run_pending()\n",
      "    time.sleep(1)\n"
     ],
     "language": "python",
     "metadata": {},
     "outputs": []
    }
   ],
   "metadata": {}
  }
 ]
}