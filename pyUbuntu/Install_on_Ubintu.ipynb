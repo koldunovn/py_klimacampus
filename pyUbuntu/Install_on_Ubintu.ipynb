{
 "metadata": {
  "name": "",
  "signature": "sha256:4ec21478c79f9302634e4f8420960985ebe9cfedbf5aa153711dde1a4b404caa"
 },
 "nbformat": 3,
 "nbformat_minor": 0,
 "worksheets": [
  {
   "cells": [
    {
     "cell_type": "heading",
     "level": 1,
     "metadata": {},
     "source": [
      "pyUbuntu"
     ]
    },
    {
     "cell_type": "markdown",
     "metadata": {},
     "source": [
      "Instructions of how to set up your Ubuntu 14.04 LTS in order to be able to run most of the examples from [py_klimacampus repository](https://github.com/koldunovn/py_klimacampus).  "
     ]
    },
    {
     "cell_type": "heading",
     "level": 2,
     "metadata": {},
     "source": [
      "Anaconda"
     ]
    },
    {
     "cell_type": "markdown",
     "metadata": {},
     "source": [
      "The easiest way and strongly recomended for begginers. \n",
      "\n",
      "Download [miniconda](http://conda.pydata.org/miniconda.html) for your system from anaconda website (choose 2.7 version).\n",
      "\n",
      "Install it by executing on Windows, or by typing\n",
      "\n",
      "    chmod +x Miniconda-xxxxxx.sh \n",
      "    ./Miniconda-xxxxxx.sh\n",
      "    \n",
      "on Linux (and probably MacOS). Agree with everything.\n",
      "\n",
      "Directory `/home/user/miniconda` will be created and something like this will be added to your `.bashrc`\n",
      "\n",
      "    export PATH=\"/home/user/miniconda/bin:$PATH\"\n",
      "\n",
      "Now to activate `conda` you have to `source ~/.bashrc` or just open new terminal. In order to deactivate conda in return to your system installation of python and packages, you have to comment this line in `.bashrc` and open new terminal.\n",
      "\n",
      "You can now install most of the packages at once with the following command:\n",
      "\n",
      "    conda install numpy scipy matplotlib pandas ipython-notebook cython netCDF4 numba basemap\n",
      "    \n",
      "Some additional things have to be done to install \n",
      "\n",
      "    conda install -c https://conda.binstar.org/mutirri seaborn\n",
      "    conda install -c https://conda.binstar.org/mutirri mpld3\n",
      "    \n",
      "Done"
     ]
    },
    {
     "cell_type": "heading",
     "level": 2,
     "metadata": {},
     "source": [
      "Virtualenv"
     ]
    },
    {
     "cell_type": "markdown",
     "metadata": {},
     "source": [
      "First you have to instal virtualenv. We will create our setup in isolated enviroment, so not to interfere with python packages from Ubuntu. More about virtualenv [here](http://nbviewer.ipython.org/github/koldunovn/py_klimacampus/blob/master/meeting_003/virtualenv_and_pip.ipynb?create=1)\n",
      "\n",
      "    sudo apt-get install python-virtualenv \n",
      "    \n",
      "And some important dependencies:\n",
      "\n",
      "    sudo apt-get install python-dev libblas-dev liblapack-dev gfortran libpng12-dev imagemagick python-qt4-dev python-gtk2-dev libfreetype6-dev git libnetcdf-dev libhdf5-dev \n",
      "    "
     ]
    },
    {
     "cell_type": "markdown",
     "metadata": {},
     "source": [
      "Create virtual environment:\n",
      "\n",
      "    virtualenv pyUbuntu"
     ]
    },
    {
     "cell_type": "markdown",
     "metadata": {},
     "source": [
      "The `pyUbuntu` folder will be created. In order to start your virtual environment, type:\n",
      "\n",
      "    source pyUbuntu/bin/activate"
     ]
    },
    {
     "cell_type": "markdown",
     "metadata": {},
     "source": [
      "Now we are in the `clean` instalation of python, and can make any experiments without danger of messing up the whole system. "
     ]
    },
    {
     "cell_type": "markdown",
     "metadata": {},
     "source": [
      "You can install packages one by one, or use `requirements.txt` file to install everything more or less automatically. For the later use command:\n",
      "\n",
      "    pip install -r requirements.txt\n",
      "    \n",
      "Manually it will look like this:\n",
      "\n",
      "    pip install numpy\n",
      "    pip install scipy #this will take a LOT of time\n",
      "    pip install python_dateutil\n",
      "    pip install pyparsing\n",
      "    pip install pytz\n",
      "    \n",
      "    pip install matplotlib\n",
      "    pip install pandas\n",
      "    pip install ipython[all]\n",
      "    pip install cython\n",
      "    pip install seaborn\n",
      "    pip install netCDF4\n",
      "    pip install mpld3"
     ]
    },
    {
     "cell_type": "code",
     "collapsed": false,
     "input": [
      "%%file requirements.txt\n",
      "numpy\n",
      "scipy\n",
      "python_dateutil\n",
      "pyparsing\n",
      "pytz\n",
      "matplotlib\n",
      "pandas\n",
      "ipython[all]\n",
      "cython\n",
      "seaborn\n",
      "netCDF4\n",
      "mpld3\n",
      "llvmpy\n",
      "argparse\n"
     ],
     "language": "python",
     "metadata": {},
     "outputs": [
      {
       "output_type": "stream",
       "stream": "stdout",
       "text": [
        "Overwriting requirements.txt\n"
       ]
      }
     ],
     "prompt_number": 4
    },
    {
     "cell_type": "heading",
     "level": 3,
     "metadata": {},
     "source": [
      "Instalation of Basemap: "
     ]
    },
    {
     "cell_type": "markdown",
     "metadata": {},
     "source": [
      "You need some additional steps to install Basemap:\n",
      "\n",
      "    sudo apt-get install libgeos-dev\n",
      "    wget https://github.com/matplotlib/basemap/archive/master.zip\n",
      "    pip install master.zip\n",
      "    rm master.zip"
     ]
    },
    {
     "cell_type": "heading",
     "level": 3,
     "metadata": {},
     "source": [
      "Installation of Numba"
     ]
    },
    {
     "cell_type": "markdown",
     "metadata": {},
     "source": [
      "This might easilly fail and compilation of llvm is a long process. Since numba is only used for small part of one of the notebooks it is not nessesary to install it at all. Best way to install numba is to use Anaconda.\n",
      "\n",
      "    wget http://llvm.org/releases/3.2/llvm-3.2.src.tar.gz\n",
      "    tar zxvf llvm-3.2.src.tar.gz\n",
      "    ./configure --enable-optimized\n",
      "    # Be sure your compiler architecture is same as version of Python you will use\n",
      "    #  e.g. -arch i386 or -arch x86_64.  It might be best to be explicit about this.\n",
      "    REQUIRES_RTTI=1 make install\n",
      "\n",
      "    git clone https://github.com/numba/numba.git\n",
      "    cd numba\n",
      "    pip install -r requirements.txt\n",
      "    python setup.py install\n",
      "\n",
      "[Source](http://numba.pydata.org/install.html)."
     ]
    },
    {
     "cell_type": "heading",
     "level": 2,
     "metadata": {},
     "source": [
      "Virtual machine (Virtual Box)"
     ]
    },
    {
     "cell_type": "markdown",
     "metadata": {},
     "source": [
      "Virtual machine image with Ubuntu 14.04 LTS and everything already installed and more or less working can be found ether here:\n",
      "\n",
      "* [Image without Guest Additions](https://yadi.sk/d/QQswWnincG8TA)\n",
      "* [Image with Guest Additions for Ubuntu 14.04 host system installed](https://yadi.sk/d/nuAT863bcG8yx)\n",
      "\n",
      "or if you in ZMAW/DKRZ network, just drop me an email (koldunovn@gmail.com) and I will point you to the right directory.\n",
      "\n",
      "In order to open an image, just go to *\"File >> Import Appliance\"* and choose downloaded .ova file.\n",
      "\n",
      "There are actually two images. One without Guest Additions, so you have to install them for your system.\n",
      "\n",
      "Another with guest additions installed for Ubuntu 14.04 as a host system. In most cases you want the first one. [Instructions of how to install Guest Additions](http://askubuntu.com/questions/22743/how-do-i-install-guest-additions-in-a-virtualbox-vm). \n",
      "\n",
      "In virtual machine installation is done only with anaconda. "
     ]
    },
    {
     "cell_type": "markdown",
     "metadata": {},
     "source": [
      "**User** ocean\n",
      "\n",
      "**Pass** ocean"
     ]
    },
    {
     "cell_type": "markdown",
     "metadata": {},
     "source": [
      "Just `cd` to `py_klimacampus` directory and start IPython notebook:\n",
      "\n",
      "    ipython notebook\n",
      "    \n",
      "you will see tree with folders for different meetings. Pick the folder, open notebook and explore :) \n",
      "\n",
      "Most of the notebooks works on this setup. When some doesn't there is a big note in the header of the notebook.\n",
      "\n",
      "All nessesary data are already downloaded, so it is good for offline use."
     ]
    }
   ],
   "metadata": {}
  }
 ]
}