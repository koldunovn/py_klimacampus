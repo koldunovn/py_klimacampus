{
 "metadata": {
  "name": "",
  "signature": "sha256:f7caff5886701bae3807729ce56fabff8551e161fb59b9645d43fb392af5282c"
 },
 "nbformat": 3,
 "nbformat_minor": 0,
 "worksheets": [
  {
   "cells": [
    {
     "cell_type": "heading",
     "level": 1,
     "metadata": {},
     "source": [
      "pyUbuntu"
     ]
    },
    {
     "cell_type": "markdown",
     "metadata": {},
     "source": [
      "Instructions of how to set up your Ubuntu 14.04 LTS in order to be able to run most of the examples from [py_klimacampus repository](https://github.com/koldunovn/py_klimacampus)  "
     ]
    },
    {
     "cell_type": "heading",
     "level": 2,
     "metadata": {},
     "source": [
      "Anaconda"
     ]
    },
    {
     "cell_type": "markdown",
     "metadata": {},
     "source": [
      "The easiest way and strongly recomended for begginers. \n",
      "\n",
      "Download [miniconda](http://conda.pydata.org/miniconda.html) for your system from anaconda website (choose 2.7 version).\n",
      "\n",
      "Install it by exicuting on Windows, or by typing\n",
      "\n",
      "    chmod +x Miniconda-xxxxxx.sh \n",
      "    ./Miniconda-xxxxxx.sh\n",
      "    \n",
      "on Linux (and probably MacOS). Agree with everything.\n",
      "\n",
      "Directory `/home/user/miniconda` will be created and something like this will be added to your `.bashrc`\n",
      "\n",
      "    export PATH=\"/home/user/miniconda/bin:$PATH\"\n",
      "\n",
      "Now to activate `conda` you have to `source ~/.bashrc` or just open new terminal. In order to deactivate conda in return to your system installation of python and packages, you have to comment this line in `.bashrc` and open new terminal.\n",
      "\n",
      "You can now install most of the packages at once with the following command:\n",
      "\n",
      "    conda install numpy scipy matplotlib pandas ipython-notebook cython netCDF4 numba basemap\n",
      "    \n",
      "Some additional things have to be done to install \n",
      "\n",
      "    conda install -c https://conda.binstar.org/mutirri seaborn\n",
      "    conda install -c https://conda.binstar.org/mutirri mpld3\n",
      "    \n",
      "Done"
     ]
    },
    {
     "cell_type": "heading",
     "level": 2,
     "metadata": {},
     "source": [
      "Virtualenv"
     ]
    },
    {
     "cell_type": "markdown",
     "metadata": {},
     "source": [
      "First you have to instal virtualenv. We will create our setup in isolated enviroment, so not to interfere with python packages from Ubuntu. More about virtualenv [here](http://nbviewer.ipython.org/github/koldunovn/py_klimacampus/blob/master/meeting_003/virtualenv_and_pip.ipynb?create=1)\n",
      "\n",
      "    sudo apt-get install python-virtualenv \n",
      "    \n",
      "And some important dependencies:\n",
      "\n",
      "    sudo apt-get install python-dev libblas-dev liblapack-dev gfortran libpng12-dev imagemagick python-qt4-dev python-gtk2-dev libfreetype6-dev git libnetcdf-dev libhdf5-dev \n",
      "    "
     ]
    },
    {
     "cell_type": "markdown",
     "metadata": {},
     "source": [
      "Create virtual environment:\n",
      "\n",
      "    virtualenv pyUbuntu"
     ]
    },
    {
     "cell_type": "markdown",
     "metadata": {},
     "source": [
      "The `pyUbuntu` folder will be created. In order to start your virtual environment, type:\n",
      "\n",
      "    source pyUbuntu/bin/activate"
     ]
    },
    {
     "cell_type": "markdown",
     "metadata": {},
     "source": [
      "Now we are in the `clean` instalation of python, and can make any experiments without danger of messing up the whole system. "
     ]
    },
    {
     "cell_type": "markdown",
     "metadata": {},
     "source": [
      "You can install packages one by one, or use `requirements.txt` file to install everything more or less automatically. For the later use command:\n",
      "\n",
      "    pip install -r requirements.txt\n",
      "    \n",
      "Manually it will look like this:\n",
      "\n",
      "    pip install numpy\n",
      "    pip install scipy #this will take a LOT of time\n",
      "    pip install python_dateutil\n",
      "    pip install pyparsing\n",
      "    pip install pytz\n",
      "    \n",
      "    pip install matplotlib\n",
      "    pip install pandas\n",
      "    pip install ipython[all]\n",
      "    pip install cython\n",
      "    pip install seaborn\n",
      "    pip install netCDF4\n",
      "    pip install mpld3\n",
      "    pip install seaborn\n",
      "    pip install llvmpy\n",
      "    pip install argparse"
     ]
    },
    {
     "cell_type": "code",
     "collapsed": false,
     "input": [
      "%%file requirements.txt\n",
      "numpy\n",
      "scipy\n",
      "python_dateutil\n",
      "pyparsing\n",
      "pytz\n",
      "    \n",
      "matplotlib\n",
      "pandas\n",
      "ipython[all]\n",
      "cython\n",
      "seaborn\n",
      "netCDF4\n",
      "mpld3\n",
      "seaborn\n",
      "llvmpy\n",
      "argparse\n"
     ],
     "language": "python",
     "metadata": {},
     "outputs": [
      {
       "output_type": "stream",
       "stream": "stdout",
       "text": [
        "Overwriting requirements.txt\n"
       ]
      }
     ],
     "prompt_number": 1
    },
    {
     "cell_type": "heading",
     "level": 3,
     "metadata": {},
     "source": [
      "Instalation of Basemap: "
     ]
    },
    {
     "cell_type": "markdown",
     "metadata": {},
     "source": [
      "You need some additional steps to install Basemap:\n",
      "\n",
      "    sudo apt-get install libgeos-dev\n",
      "    wget https://github.com/matplotlib/basemap/archive/master.zip\n",
      "    pip install master.zip\n",
      "    rm master.zip"
     ]
    },
    {
     "cell_type": "heading",
     "level": 2,
     "metadata": {},
     "source": [
      "Virtual machine (Virtual Box)"
     ]
    },
    {
     "cell_type": "markdown",
     "metadata": {},
     "source": [
      "Virtual machine image with Ubuntu 14.04 LTS and everything already installed and more or less working can be found here:\n",
      "\n",
      "There are actually two images. One without Guest Additions, so you have to install them for your system.\n",
      "\n",
      "Another with guest additions installed for Ubuntu 14.04 as host system. In most cases you want the first one. [Instructions of how to install Guest Additions](http://askubuntu.com/questions/22743/how-do-i-install-guest-additions-in-a-virtualbox-vm). \n",
      "\n",
      "In virtual machine installation is done both ways. "
     ]
    },
    {
     "cell_type": "heading",
     "level": 4,
     "metadata": {},
     "source": [
      "virtualenv setup"
     ]
    },
    {
     "cell_type": "markdown",
     "metadata": {},
     "source": [
      "In order to activatie `virtualenv` setup, where everything is installed through pip (so, compiled), run:\n",
      "\n",
      "    source pyUbuntu/bin/activate\n",
      "    \n",
      "or just \n",
      "\n",
      "    ve\n",
      "\n",
      "which is an alias for previous command."
     ]
    },
    {
     "cell_type": "heading",
     "level": 4,
     "metadata": {},
     "source": [
      "anaconda setup"
     ]
    },
    {
     "cell_type": "code",
     "collapsed": false,
     "input": [],
     "language": "python",
     "metadata": {},
     "outputs": []
    }
   ],
   "metadata": {}
  }
 ]
}