{
 "metadata": {
  "name": "",
  "signature": "sha256:cdb3d5ec13908a2e08139142a1500089c2a1d530b968ac86e14ce59a661b216d"
 },
 "nbformat": 3,
 "nbformat_minor": 0,
 "worksheets": [
  {
   "cells": [
    {
     "cell_type": "heading",
     "level": 1,
     "metadata": {},
     "source": [
      "Attempt to optimize Mark's lo-pass filter function"
     ]
    },
    {
     "cell_type": "heading",
     "level": 2,
     "metadata": {},
     "source": [
      "Preparations:"
     ]
    },
    {
     "cell_type": "code",
     "collapsed": false,
     "input": [
      "from ferr import *\n",
      "from numpy import *\n",
      "import multiprocessing"
     ],
     "language": "python",
     "metadata": {},
     "outputs": [],
     "prompt_number": 1
    },
    {
     "cell_type": "code",
     "collapsed": false,
     "input": [
      "d1 = use('temp.2004.nc', silent=True)\n",
      "temp = d1.gv('WTMP_GDS0_DBSL')\n",
      "d2 = use('temp.2005.nc', silent=True)\n",
      "temp2 = d2.gv('WTMP_GDS0_DBSL')\n",
      "\n",
      "\n",
      "temp1_0 = temp[:,0,...]  # surface slice, z=0\n",
      "temp2_0 = temp2[:,0,...]\n",
      "\n",
      "t0 = r_[temp.t,temp2.t]\n",
      "temp0 = r_[temp1_0, temp2_0]\n",
      "\n",
      "temp0 = np.ma.masked_greater(temp0,1e19)\n",
      "\n",
      "from scipy.signal import butter, freqz, filtfilt\n",
      "\n",
      "b,a=butter(6,0.25);\n",
      "h,w=freqz(b,a,128);"
     ],
     "language": "python",
     "metadata": {},
     "outputs": [],
     "prompt_number": 2
    },
    {
     "cell_type": "heading",
     "level": 2,
     "metadata": {},
     "source": [
      "Original code"
     ]
    },
    {
     "cell_type": "code",
     "collapsed": false,
     "input": [
      "%%time\n",
      "lp1out = np.ma.masked_all(temp0.shape,dtype=np.float32)\n",
      "for i in np.ndindex(temp0.shape[1:]):\n",
      "        if temp0[:,i[0],i[1]].mask.any(): continue\n",
      "        lp1out[:,i[0],i[1]] = filtfilt(b,a,temp0[:,i[0],i[1]])"
     ],
     "language": "python",
     "metadata": {},
     "outputs": [
      {
       "output_type": "stream",
       "stream": "stdout",
       "text": [
        "CPU times: user 13.4 s, sys: 4 ms, total: 13.4 s\n",
        "Wall time: 13.4 s\n"
       ]
      }
     ],
     "prompt_number": 39
    },
    {
     "cell_type": "code",
     "collapsed": false,
     "input": [
      "lp1out.max()"
     ],
     "language": "python",
     "metadata": {},
     "outputs": [
      {
       "metadata": {},
       "output_type": "pyout",
       "prompt_number": 4,
       "text": [
        "33.147888"
       ]
      }
     ],
     "prompt_number": 4
    },
    {
     "cell_type": "heading",
     "level": 2,
     "metadata": {},
     "source": [
      "Numba version"
     ]
    },
    {
     "cell_type": "code",
     "collapsed": false,
     "input": [
      "from numba import jit, autojit"
     ],
     "language": "python",
     "metadata": {},
     "outputs": [],
     "prompt_number": 36
    },
    {
     "cell_type": "markdown",
     "metadata": {},
     "source": [
      "Naive way. We just make a single function out of the code and use `autojit` decorator:"
     ]
    },
    {
     "cell_type": "code",
     "collapsed": false,
     "input": [
      "@autojit\n",
      "def mk2(temp0, b, a):\n",
      "    lp1out = np.ma.masked_all(temp0.shape,dtype=np.float32)\n",
      "    for i in np.ndindex(temp0.shape[1:]):\n",
      "        if temp0[:,i[0],i[1]].mask.any(): continue\n",
      "        lp1out[:,i[0],i[1]] = filtfilt(b,a,temp0[:,i[0],i[1]])\n",
      "    return lp1out"
     ],
     "language": "python",
     "metadata": {},
     "outputs": [],
     "prompt_number": 37
    },
    {
     "cell_type": "code",
     "collapsed": false,
     "input": [
      "%%time\n",
      "lp = mk2(temp0, b, a)"
     ],
     "language": "python",
     "metadata": {},
     "outputs": [
      {
       "output_type": "stream",
       "stream": "stdout",
       "text": [
        "CPU times: user 14.3 s, sys: 8 ms, total: 14.3 s\n",
        "Wall time: 14.3 s\n"
       ]
      }
     ],
     "prompt_number": 38
    },
    {
     "cell_type": "code",
     "collapsed": false,
     "input": [
      "lp.max()"
     ],
     "language": "python",
     "metadata": {},
     "outputs": [
      {
       "metadata": {},
       "output_type": "pyout",
       "prompt_number": 66,
       "text": [
        "33.147888"
       ]
      }
     ],
     "prompt_number": 66
    },
    {
     "cell_type": "markdown",
     "metadata": {},
     "source": [
      "Not exactly what we expected. Looks like Numba doesn't play well with masked arrays. Let's rewrite the function without masked arrays and easier indexing:"
     ]
    },
    {
     "cell_type": "code",
     "collapsed": false,
     "input": [
      "tt0 = temp0.filled()"
     ],
     "language": "python",
     "metadata": {},
     "outputs": [],
     "prompt_number": 40
    },
    {
     "cell_type": "code",
     "collapsed": false,
     "input": [
      "@autojit\n",
      "def mk4(temp0, b, a):\n",
      "    lp1out = np.zeros(temp0.shape,dtype=np.float32)\n",
      "    for i in range(temp0.shape[1]):\n",
      "        for n in range(temp0.shape[2]):\n",
      "            #ff = temp0[0,0,0]\n",
      "            if temp0[0,i,n]<100.:\n",
      "                #print(filtfilt(b,a,temp0[:,i,n]))\n",
      "                lp1out[:,i,n] = filtfilt(b,a,temp0[:,i,n])\n",
      "    return lp1out"
     ],
     "language": "python",
     "metadata": {},
     "outputs": [],
     "prompt_number": 41
    },
    {
     "cell_type": "code",
     "collapsed": false,
     "input": [
      "%%time\n",
      "lp = mk4(tt0, b, a)"
     ],
     "language": "python",
     "metadata": {},
     "outputs": [
      {
       "output_type": "stream",
       "stream": "stdout",
       "text": [
        "CPU times: user 9 s, sys: 0 ns, total: 9 s\n",
        "Wall time: 9 s\n"
       ]
      }
     ],
     "prompt_number": 42
    },
    {
     "cell_type": "code",
     "collapsed": false,
     "input": [
      "lp.max()"
     ],
     "language": "python",
     "metadata": {},
     "outputs": [
      {
       "metadata": {},
       "output_type": "pyout",
       "prompt_number": 43,
       "text": [
        "33.147888"
       ]
      }
     ],
     "prompt_number": 43
    },
    {
     "cell_type": "markdown",
     "metadata": {},
     "source": [
      "Not extremely empressive, but something. "
     ]
    },
    {
     "cell_type": "heading",
     "level": 2,
     "metadata": {},
     "source": [
      "Cython"
     ]
    },
    {
     "cell_type": "code",
     "collapsed": false,
     "input": [
      "%load_ext cythonmagic"
     ],
     "language": "python",
     "metadata": {},
     "outputs": [
      {
       "output_type": "stream",
       "stream": "stdout",
       "text": [
        "The cythonmagic extension is already loaded. To reload it, use:\n",
        "  %reload_ext cythonmagic\n"
       ]
      }
     ],
     "prompt_number": 44
    },
    {
     "cell_type": "markdown",
     "metadata": {},
     "source": [
      "Masked arrays also did not worked for Cython, so we will stay with non masked version of the function"
     ]
    },
    {
     "cell_type": "code",
     "collapsed": false,
     "input": [
      "%%cython\n",
      "import numpy as np\n",
      "from scipy.signal import butter, freqz, filtfilt\n",
      "cimport numpy as np\n",
      "\n",
      "def mk5(temp0, b, a):\n",
      "    lp1out = np.zeros(temp0.shape,dtype=np.float32)\n",
      "    for i in range(temp0.shape[1]):\n",
      "        for n in range(temp0.shape[2]):\n",
      "            #ff = temp0[0,0,0]\n",
      "            if temp0[0,i,n]<100.:\n",
      "                #print(filtfilt(b,a,temp0[:,i,n]))\n",
      "                lp1out[:,i,n] = filtfilt(b,a,temp0[:,i,n])\n",
      "    return lp1out"
     ],
     "language": "python",
     "metadata": {},
     "outputs": [],
     "prompt_number": 45
    },
    {
     "cell_type": "code",
     "collapsed": false,
     "input": [
      "%%time\n",
      "lp = mk5(tt0, b, a)"
     ],
     "language": "python",
     "metadata": {},
     "outputs": [
      {
       "output_type": "stream",
       "stream": "stdout",
       "text": [
        "CPU times: user 8.82 s, sys: 4 ms, total: 8.82 s\n",
        "Wall time: 8.82 s\n"
       ]
      }
     ],
     "prompt_number": 46
    },
    {
     "cell_type": "code",
     "collapsed": false,
     "input": [
      "lp.max()"
     ],
     "language": "python",
     "metadata": {},
     "outputs": [
      {
       "metadata": {},
       "output_type": "pyout",
       "prompt_number": 47,
       "text": [
        "33.147888"
       ]
      }
     ],
     "prompt_number": 47
    },
    {
     "cell_type": "markdown",
     "metadata": {},
     "source": [
      "Not better than Numba"
     ]
    },
    {
     "cell_type": "markdown",
     "metadata": {},
     "source": [
      "A bit crazier version:"
     ]
    },
    {
     "cell_type": "code",
     "collapsed": false,
     "input": [
      "%%cython\n",
      "import numpy as np\n",
      "from scipy.signal import butter, freqz, filtfilt\n",
      "cimport numpy as np\n",
      "cimport cython\n",
      "\n",
      "@cython.boundscheck(False)\n",
      "@cython.wraparound(False)\n",
      "@cython.nonecheck(False)\n",
      "def mk7(np.ndarray[float, ndim=3] temp0, np.ndarray[double, ndim=1] b, np.ndarray[double, ndim=1] a):\n",
      "    \n",
      "    cdef np.ndarray[float, ndim = 3 ] lp1out\n",
      "    \n",
      "    lp1out = np.zeros((temp0.shape[0],temp0.shape[1],temp0.shape[2]),dtype=np.float32)\n",
      "    \n",
      "    for i in range(temp0.shape[1]):\n",
      "        for n in range(temp0.shape[2]):\n",
      "            #ff = temp0[0,0,0]\n",
      "            if temp0[0,i,n]<100.:\n",
      "                #print(filtfilt(b,a,temp0[:,i,n]))\n",
      "                lp1out[:,i,n] = filtfilt(b,a,temp0[:,i,n])\n",
      "    return lp1out"
     ],
     "language": "python",
     "metadata": {},
     "outputs": [],
     "prompt_number": 50
    },
    {
     "cell_type": "code",
     "collapsed": false,
     "input": [
      "%%time\n",
      "lp = mk7(tt0, b, a)"
     ],
     "language": "python",
     "metadata": {},
     "outputs": [
      {
       "output_type": "stream",
       "stream": "stdout",
       "text": [
        "CPU times: user 8.23 s, sys: 12 ms, total: 8.24 s\n",
        "Wall time: 8.25 s\n"
       ]
      }
     ],
     "prompt_number": 51
    },
    {
     "cell_type": "code",
     "collapsed": false,
     "input": [
      "lp.max()"
     ],
     "language": "python",
     "metadata": {},
     "outputs": [
      {
       "metadata": {},
       "output_type": "pyout",
       "prompt_number": 52,
       "text": [
        "33.147888"
       ]
      }
     ],
     "prompt_number": 52
    },
    {
     "cell_type": "markdown",
     "metadata": {},
     "source": [
      "Same thing."
     ]
    },
    {
     "cell_type": "code",
     "collapsed": false,
     "input": [],
     "language": "python",
     "metadata": {},
     "outputs": []
    }
   ],
   "metadata": {}
  }
 ]
}