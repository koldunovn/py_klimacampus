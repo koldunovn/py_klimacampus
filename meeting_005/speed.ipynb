{
 "metadata": {
  "name": "",
  "signature": "sha256:99c669774c5b866552564b159671dd2947b772302b374e7e5757fbd85f4eb457"
 },
 "nbformat": 3,
 "nbformat_minor": 0,
 "worksheets": [
  {
   "cells": [
    {
     "cell_type": "heading",
     "level": 1,
     "metadata": {},
     "source": [
      "Make your python scripts run faster"
     ]
    },
    {
     "cell_type": "heading",
     "level": 2,
     "metadata": {},
     "source": [
      "Multiprocessor"
     ]
    },
    {
     "cell_type": "markdown",
     "metadata": {},
     "source": [
      "Download some data to work with"
     ]
    },
    {
     "cell_type": "code",
     "collapsed": false,
     "input": [
      "#variabs = ['air']\n",
      "#for vvv in variabs:\n",
      "#    for i in range(2000,2010):\n",
      "#        !wget ftp://ftp.cdc.noaa.gov/Datasets/ncep.reanalysis.dailyavgs/surface/{vvv}.sig995.{i}.nc"
     ],
     "language": "python",
     "metadata": {},
     "outputs": [],
     "prompt_number": 31
    },
    {
     "cell_type": "code",
     "collapsed": false,
     "input": [
      "ls *nc"
     ],
     "language": "python",
     "metadata": {},
     "outputs": [
      {
       "output_type": "stream",
       "stream": "stdout",
       "text": [
        "air.sig995.2000.nc  air.sig995.2003.nc  air.sig995.2006.nc  air.sig995.2009.nc\r\n",
        "air.sig995.2001.nc  air.sig995.2004.nc  air.sig995.2007.nc\r\n",
        "air.sig995.2002.nc  air.sig995.2005.nc  air.sig995.2008.nc\r\n"
       ]
      }
     ],
     "prompt_number": 32
    },
    {
     "cell_type": "markdown",
     "metadata": {},
     "source": [
      "Some nessesary input"
     ]
    },
    {
     "cell_type": "code",
     "collapsed": false,
     "input": [
      "from netCDF4 import Dataset"
     ],
     "language": "python",
     "metadata": {},
     "outputs": [],
     "prompt_number": 33
    },
    {
     "cell_type": "markdown",
     "metadata": {},
     "source": [
      "Create useless but time consuming function, that have a lot of loops in it. It takes year as an input and then just summs up all the numbers one by one."
     ]
    },
    {
     "cell_type": "code",
     "collapsed": false,
     "input": [
      "def useless(year):\n",
      "    from netCDF4 import Dataset\n",
      "    f = Dataset('air.sig995.'+year+'.nc')\n",
      "    a = f.variables['air'][:]\n",
      "    a_cum = 0\n",
      "    for i in range(a.shape[0]):\n",
      "        for j in range(a.shape[1]):\n",
      "            for n in range(a.shape[2]):\n",
      "                a_cum = a_cum+a[i,j,n]\n",
      "                \n",
      "    a_cum.tofile(year+'.bin')\n",
      "    print(year)\n",
      "    return a_cum"
     ],
     "language": "python",
     "metadata": {},
     "outputs": [],
     "prompt_number": 34
    },
    {
     "cell_type": "markdown",
     "metadata": {},
     "source": [
      "It works slow enough:"
     ]
    },
    {
     "cell_type": "code",
     "collapsed": false,
     "input": [
      "%%time\n",
      "useless('2000')"
     ],
     "language": "python",
     "metadata": {},
     "outputs": [
      {
       "output_type": "stream",
       "stream": "stdout",
       "text": [
        "2000\n",
        "CPU times: user 650 ms, sys: 1.01 s, total: 1.66 s\n",
        "Wall time: 2.93 s\n"
       ]
      },
      {
       "metadata": {},
       "output_type": "pyout",
       "prompt_number": 35,
       "text": [
        "1068708186.2315979"
       ]
      }
     ],
     "prompt_number": 35
    },
    {
     "cell_type": "markdown",
     "metadata": {},
     "source": [
      "We can create a loop that will process several files one by one. First make a list of years:"
     ]
    },
    {
     "cell_type": "code",
     "collapsed": false,
     "input": [
      "years = [str(x) for x in range(2000,2008)]\n",
      "years"
     ],
     "language": "python",
     "metadata": {},
     "outputs": [
      {
       "metadata": {},
       "output_type": "pyout",
       "prompt_number": 36,
       "text": [
        "['2000', '2001', '2002', '2003', '2004', '2005', '2006', '2007']"
       ]
      }
     ],
     "prompt_number": 36
    },
    {
     "cell_type": "markdown",
     "metadata": {},
     "source": [
      "And now the loop:"
     ]
    },
    {
     "cell_type": "code",
     "collapsed": false,
     "input": [
      "%%time\n",
      "for yy in years:\n",
      "    useless(yy)"
     ],
     "language": "python",
     "metadata": {},
     "outputs": [
      {
       "output_type": "stream",
       "stream": "stdout",
       "text": [
        "2000\n",
        "2001"
       ]
      },
      {
       "output_type": "stream",
       "stream": "stdout",
       "text": [
        "\n",
        "2002"
       ]
      },
      {
       "output_type": "stream",
       "stream": "stdout",
       "text": [
        "\n",
        "2003"
       ]
      },
      {
       "output_type": "stream",
       "stream": "stdout",
       "text": [
        "\n",
        "2004"
       ]
      },
      {
       "output_type": "stream",
       "stream": "stdout",
       "text": [
        "\n",
        "2005"
       ]
      },
      {
       "output_type": "stream",
       "stream": "stdout",
       "text": [
        "\n",
        "2006"
       ]
      },
      {
       "output_type": "stream",
       "stream": "stdout",
       "text": [
        "\n",
        "2007"
       ]
      },
      {
       "output_type": "stream",
       "stream": "stdout",
       "text": [
        "\n",
        "CPU times: user 4.83 s, sys: 8.69 s, total: 13.5 s\n",
        "Wall time: 25.1 s\n"
       ]
      }
     ],
     "prompt_number": 37
    },
    {
     "cell_type": "markdown",
     "metadata": {},
     "source": [
      "Processing of each file is independent from others. This is \"embarrassingly parallel\" problem and can be done very easily in parallel with `multiprocessing` module of the standard library:"
     ]
    },
    {
     "cell_type": "markdown",
     "metadata": {},
     "source": [
      "You have to know how many processers you have. On modern computers you will have more than one."
     ]
    },
    {
     "cell_type": "code",
     "collapsed": false,
     "input": [
      "!nproc"
     ],
     "language": "python",
     "metadata": {},
     "outputs": [
      {
       "output_type": "stream",
       "stream": "stdout",
       "text": [
        "1\r\n"
       ]
      }
     ],
     "prompt_number": 13
    },
    {
     "cell_type": "code",
     "collapsed": false,
     "input": [
      "import multiprocessing"
     ],
     "language": "python",
     "metadata": {},
     "outputs": [],
     "prompt_number": 14
    },
    {
     "cell_type": "code",
     "collapsed": false,
     "input": [
      "pool = multiprocessing.Pool(processes=4)"
     ],
     "language": "python",
     "metadata": {},
     "outputs": [],
     "prompt_number": 15
    },
    {
     "cell_type": "code",
     "collapsed": false,
     "input": [
      "%%time\n",
      "r = pool.map(useless, years)\n",
      "pool.close()"
     ],
     "language": "python",
     "metadata": {},
     "outputs": [
      {
       "output_type": "stream",
       "stream": "stdout",
       "text": [
        "CPU times: user 137 ms, sys: 170 ms, total: 307 ms\n",
        "Wall time: 19.5 s\n",
        "2001\n",
        "2002\n",
        "2003\n",
        "2000\n",
        "2004200520062007\n",
        "\n",
        "\n",
        "\n"
       ]
      }
     ],
     "prompt_number": 16
    },
    {
     "cell_type": "heading",
     "level": 2,
     "metadata": {},
     "source": [
      "IPython parallel"
     ]
    },
    {
     "cell_type": "heading",
     "level": 2,
     "metadata": {},
     "source": [
      "Will not work with Anaconda installation on Virtual machine"
     ]
    },
    {
     "cell_type": "markdown",
     "metadata": {},
     "source": [
      "IPython\u2019s sophisticated and powerful architecture for parallel and distributed computing. [Documentation](http://ipython.org/ipython-doc/dev/parallel/parallel_intro.html)."
     ]
    },
    {
     "cell_type": "markdown",
     "metadata": {},
     "source": [
      "You have to start ipycluster in terminal, or in the Dashboard of IPython notebook:\n",
      "\n",
      "    ipcluster start -n 2"
     ]
    },
    {
     "cell_type": "code",
     "collapsed": false,
     "input": [
      "from IPython.parallel import Client"
     ],
     "language": "python",
     "metadata": {},
     "outputs": [],
     "prompt_number": 26
    },
    {
     "cell_type": "code",
     "collapsed": false,
     "input": [
      "c = Client()\n",
      "dv = c[:]"
     ],
     "language": "python",
     "metadata": {},
     "outputs": [],
     "prompt_number": 27
    },
    {
     "cell_type": "code",
     "collapsed": false,
     "input": [
      "dv.map_sync(useless, years)"
     ],
     "language": "python",
     "metadata": {},
     "outputs": [
      {
       "ename": "CompositeError",
       "evalue": "one or more exceptions from call to method: useless\n[0:apply]: NameError: global name 'Dataset' is not defined\n[1:apply]: NameError: global name 'Dataset' is not defined",
       "output_type": "pyerr",
       "traceback": [
        "[0:apply]: ",
        "\u001b[1;31m---------------------------------------------------------------------------\u001b[0m",
        "\u001b[1;31mNameError\u001b[0m                                 Traceback (most recent call last)\u001b[1;32m<string>\u001b[0m in \u001b[0;36m<module>\u001b[1;34m()\u001b[0m",
        "\u001b[1;32m<ipython-input-24-1ba0121b92b1>\u001b[0m in \u001b[0;36museless\u001b[1;34m(year)\u001b[0m",
        "\u001b[1;31mNameError\u001b[0m: global name 'Dataset' is not defined",
        "",
        "[1:apply]: ",
        "\u001b[1;31m---------------------------------------------------------------------------\u001b[0m",
        "\u001b[1;31mNameError\u001b[0m                                 Traceback (most recent call last)\u001b[1;32m<string>\u001b[0m in \u001b[0;36m<module>\u001b[1;34m()\u001b[0m",
        "\u001b[1;32m<ipython-input-24-1ba0121b92b1>\u001b[0m in \u001b[0;36museless\u001b[1;34m(year)\u001b[0m",
        "\u001b[1;31mNameError\u001b[0m: global name 'Dataset' is not defined",
        ""
       ]
      }
     ],
     "prompt_number": 28
    },
    {
     "cell_type": "markdown",
     "metadata": {},
     "source": [
      "For this example to work one have to insert imports to the function itself. I also add return value since prints are not displayed:"
     ]
    },
    {
     "cell_type": "code",
     "collapsed": false,
     "input": [
      "def useless(year):\n",
      "    from netCDF4 import Dataset\n",
      "    f = Dataset('air.sig995.'+year+'.nc')\n",
      "    a = f.variables['air'][:]\n",
      "    a_cum = 0\n",
      "    for i in range(a.shape[0]):\n",
      "        for j in range(a.shape[1]):\n",
      "            for n in range(a.shape[2]):\n",
      "                a_cum = a_cum+a[i,j,n]\n",
      "                \n",
      "    a_cum.tofile(year+'.bin')\n",
      "    print(year)\n",
      "    return a_cum"
     ],
     "language": "python",
     "metadata": {},
     "outputs": [],
     "prompt_number": 21
    },
    {
     "cell_type": "code",
     "collapsed": false,
     "input": [
      "%%time\n",
      "dv.map_sync(useless, years)"
     ],
     "language": "python",
     "metadata": {},
     "outputs": []
    },
    {
     "cell_type": "markdown",
     "metadata": {},
     "source": [
      "Good idea is to stop cluster afterwards :)\n",
      "\n",
      "    ipcluster stop"
     ]
    },
    {
     "cell_type": "heading",
     "level": 2,
     "metadata": {},
     "source": [
      "Cython"
     ]
    },
    {
     "cell_type": "markdown",
     "metadata": {},
     "source": [
      "[Cython](http://cython.org/) is an optimising static compiler for Python. Cython magic is one of the default extensions, and we can just load it:"
     ]
    },
    {
     "cell_type": "code",
     "collapsed": false,
     "input": [
      "%load_ext cythonmagic"
     ],
     "language": "python",
     "metadata": {},
     "outputs": [
      {
       "output_type": "stream",
       "stream": "stdout",
       "text": [
        "The cythonmagic extension is already loaded. To reload it, use:\n",
        "  %reload_ext cythonmagic\n"
       ]
      }
     ],
     "prompt_number": 41
    },
    {
     "cell_type": "markdown",
     "metadata": {},
     "source": [
      "The only thing we do here - add `%%cython` magic at the top of the cell. This function will be compiled with cython. "
     ]
    },
    {
     "cell_type": "code",
     "collapsed": false,
     "input": [
      "%%cython\n",
      "def useless_cython(year):\n",
      "    from netCDF4 import Dataset\n",
      "    f = Dataset('air.sig995.'+year+'.nc')\n",
      "    a = f.variables['air'][:]\n",
      "    a_cum = 0\n",
      "    for i in range(a.shape[0]):\n",
      "        for j in range(a.shape[1]):\n",
      "            for n in range(a.shape[2]):\n",
      "                a_cum = a_cum+a[i,j,n]\n",
      "                \n",
      "    a_cum.tofile(year+'.bin')\n",
      "    print(year)\n",
      "    return a_cum"
     ],
     "language": "python",
     "metadata": {},
     "outputs": [],
     "prompt_number": 42
    },
    {
     "cell_type": "markdown",
     "metadata": {},
     "source": [
      "Only this give us a good boost:"
     ]
    },
    {
     "cell_type": "code",
     "collapsed": false,
     "input": [
      "%%time\n",
      "useless_cython('2000')"
     ],
     "language": "python",
     "metadata": {},
     "outputs": [
      {
       "output_type": "stream",
       "stream": "stdout",
       "text": [
        "2000\n",
        "CPU times: user 516 ms, sys: 785 ms, total: 1.3 s\n",
        "Wall time: 1.86 s\n"
       ]
      },
      {
       "metadata": {},
       "output_type": "pyout",
       "prompt_number": 43,
       "text": [
        "1068708186.2315979"
       ]
      }
     ],
     "prompt_number": 43
    },
    {
     "cell_type": "code",
     "collapsed": false,
     "input": [
      "%%time\n",
      "for yy in years:\n",
      "    useless_cython(yy)"
     ],
     "language": "python",
     "metadata": {},
     "outputs": [
      {
       "output_type": "stream",
       "stream": "stdout",
       "text": [
        "2000\n",
        "2001"
       ]
      },
      {
       "output_type": "stream",
       "stream": "stdout",
       "text": [
        "\n",
        "2002"
       ]
      },
      {
       "output_type": "stream",
       "stream": "stdout",
       "text": [
        "\n",
        "2003"
       ]
      },
      {
       "output_type": "stream",
       "stream": "stdout",
       "text": [
        "\n",
        "2004"
       ]
      },
      {
       "output_type": "stream",
       "stream": "stdout",
       "text": [
        "\n",
        "2005"
       ]
      },
      {
       "output_type": "stream",
       "stream": "stdout",
       "text": [
        "\n",
        "2006"
       ]
      },
      {
       "output_type": "stream",
       "stream": "stdout",
       "text": [
        "\n",
        "2007"
       ]
      },
      {
       "output_type": "stream",
       "stream": "stdout",
       "text": [
        "\n",
        "CPU times: user 4.19 s, sys: 6.32 s, total: 10.5 s\n",
        "Wall time: 15.5 s\n"
       ]
      }
     ],
     "prompt_number": 44
    },
    {
     "cell_type": "code",
     "collapsed": false,
     "input": [
      "%%time\n",
      "pool = multiprocessing.Pool(processes=4)\n",
      "r = pool.map(useless_cython, years)\n",
      "pool.close()"
     ],
     "language": "python",
     "metadata": {},
     "outputs": [
      {
       "output_type": "stream",
       "stream": "stdout",
       "text": [
        "CPU times: user 346 ms, sys: 518 ms, total: 864 ms\n",
        "Wall time: 17 s\n",
        "2002\n",
        "2000\n",
        "2001\n",
        "2003\n",
        "2006200720052004\n",
        "\n",
        "\n",
        "\n"
       ]
      }
     ],
     "prompt_number": 45
    },
    {
     "cell_type": "markdown",
     "metadata": {},
     "source": [
      "But the true power of cython revealed only when you provide types of your variables. You have to use `cdef` keyword in the function definition to do so. There are also couple other modifications to the function"
     ]
    },
    {
     "cell_type": "code",
     "collapsed": false,
     "input": [
      "%%cython\n",
      "import numpy as np\n",
      "\n",
      "def useless_cython(year):\n",
      "    \n",
      "    # define types of variables\n",
      "    cdef int i, j, n\n",
      "    cdef double a_cum\n",
      "    \n",
      "    from netCDF4 import Dataset\n",
      "    f = Dataset('air.sig995.'+year+'.nc')\n",
      "    a = f.variables['air'][:]\n",
      "    \n",
      "    a_cum = 0.\n",
      "    for i in range(a.shape[0]):\n",
      "        for j in range(a.shape[1]):\n",
      "            for n in range(a.shape[2]):\n",
      "                #here we have to convert numpy value to simple float\n",
      "                a_cum = a_cum+float(a[i,j,n])\n",
      "    \n",
      "    # since a_cum is not numpy variable anymore,\n",
      "    # we introduce new variable d in order to save\n",
      "    # data to the file easily\n",
      "    d = np.array(a_cum)\n",
      "    d.tofile(year+'.bin')\n",
      "    print(year)\n",
      "    return d"
     ],
     "language": "python",
     "metadata": {},
     "outputs": [],
     "prompt_number": 46
    },
    {
     "cell_type": "code",
     "collapsed": false,
     "input": [
      "%%time\n",
      "useless_cython('2000')"
     ],
     "language": "python",
     "metadata": {},
     "outputs": [
      {
       "output_type": "stream",
       "stream": "stdout",
       "text": [
        "2000\n",
        "CPU times: user 394 ms, sys: 448 ms, total: 841 ms\n",
        "Wall time: 1.94 s\n"
       ]
      },
      {
       "metadata": {},
       "output_type": "pyout",
       "prompt_number": 47,
       "text": [
        "array(1068708186.2315979)"
       ]
      }
     ],
     "prompt_number": 47
    },
    {
     "cell_type": "code",
     "collapsed": false,
     "input": [
      "%%time\n",
      "for yy in years:\n",
      "    useless_cython(yy)"
     ],
     "language": "python",
     "metadata": {},
     "outputs": [
      {
       "output_type": "stream",
       "stream": "stdout",
       "text": [
        "2000\n",
        "2001"
       ]
      },
      {
       "output_type": "stream",
       "stream": "stdout",
       "text": [
        "\n",
        "2002"
       ]
      },
      {
       "output_type": "stream",
       "stream": "stdout",
       "text": [
        "\n",
        "2003"
       ]
      },
      {
       "output_type": "stream",
       "stream": "stdout",
       "text": [
        "\n",
        "2004"
       ]
      },
      {
       "output_type": "stream",
       "stream": "stdout",
       "text": [
        "\n",
        "2005"
       ]
      },
      {
       "output_type": "stream",
       "stream": "stdout",
       "text": [
        "\n",
        "2006"
       ]
      },
      {
       "output_type": "stream",
       "stream": "stdout",
       "text": [
        "\n",
        "2007"
       ]
      },
      {
       "output_type": "stream",
       "stream": "stdout",
       "text": [
        "\n",
        "CPU times: user 2.69 s, sys: 3.02 s, total: 5.71 s\n",
        "Wall time: 10.5 s\n"
       ]
      }
     ],
     "prompt_number": 48
    },
    {
     "cell_type": "code",
     "collapsed": false,
     "input": [
      "%%time\n",
      "pool = multiprocessing.Pool(processes=4)\n",
      "r = pool.map(useless_cython, years)\n",
      "pool.close()"
     ],
     "language": "python",
     "metadata": {},
     "outputs": [
      {
       "output_type": "stream",
       "stream": "stdout",
       "text": [
        "CPU times: user 297 ms, sys: 450 ms, total: 747 ms\n",
        "Wall time: 12.1 s\n",
        "2001\n",
        "2000\n",
        "2002\n",
        "2003\n",
        "2004200520062007\n",
        "\n",
        "\n",
        "\n"
       ]
      }
     ],
     "prompt_number": 49
    },
    {
     "cell_type": "heading",
     "level": 2,
     "metadata": {},
     "source": [
      "Numba"
     ]
    },
    {
     "cell_type": "markdown",
     "metadata": {},
     "source": [
      "[Numba](http://numba.pydata.org/) is an just-in-time specializing compiler which compiles annotated Python and NumPy code to LLVM (through decorators)."
     ]
    },
    {
     "cell_type": "code",
     "collapsed": false,
     "input": [
      "from numba import jit, autojit"
     ],
     "language": "python",
     "metadata": {},
     "outputs": [],
     "prompt_number": 50
    },
    {
     "cell_type": "markdown",
     "metadata": {},
     "source": [
      "We now have to split our function in two (that would be a good idea from the beggining). One is just number crunching part, and another responsible for IO. The only thing that we have to do afterwards is to put `jit` decorator in front of the  first function."
     ]
    },
    {
     "cell_type": "code",
     "collapsed": false,
     "input": [
      "@autojit\n",
      "def calc_sum(a):\n",
      "    a_cum = 0.\n",
      "    for i in range(a.shape[0]):\n",
      "        for j in range(a.shape[1]):\n",
      "            for n in range(a.shape[2]):\n",
      "                a_cum = a_cum+a[i,j,n]\n",
      "    return a_cum\n",
      "\n",
      "def useless_numba(year):\n",
      "    #from netCDF4 import Dataset\n",
      "    f = Dataset('air.sig995.'+year+'.nc')\n",
      "    a = f.variables['air'][:]\n",
      "    a_cum = calc_sum(a)\n",
      "    \n",
      "    d = np.array(a_cum)\n",
      "    d.tofile(year+'.bin')\n",
      "    print(year)\n",
      "    return d"
     ],
     "language": "python",
     "metadata": {},
     "outputs": [],
     "prompt_number": 51
    },
    {
     "cell_type": "code",
     "collapsed": false,
     "input": [
      "%%time\n",
      "useless_numba('2000')"
     ],
     "language": "python",
     "metadata": {},
     "outputs": [
      {
       "output_type": "stream",
       "stream": "stdout",
       "text": [
        "2000\n",
        "CPU times: user 326 ms, sys: 136 ms, total: 462 ms\n",
        "Wall time: 926 ms\n"
       ]
      },
      {
       "metadata": {},
       "output_type": "pyout",
       "prompt_number": 52,
       "text": [
        "array(1068708186.2315979)"
       ]
      }
     ],
     "prompt_number": 52
    },
    {
     "cell_type": "code",
     "collapsed": false,
     "input": [
      "%%time\n",
      "for yy in years:\n",
      "    useless_numba(yy)"
     ],
     "language": "python",
     "metadata": {},
     "outputs": [
      {
       "output_type": "stream",
       "stream": "stdout",
       "text": [
        "2000\n",
        "2001"
       ]
      },
      {
       "output_type": "stream",
       "stream": "stdout",
       "text": [
        "\n",
        "2002"
       ]
      },
      {
       "output_type": "stream",
       "stream": "stdout",
       "text": [
        "\n",
        "2003"
       ]
      },
      {
       "output_type": "stream",
       "stream": "stdout",
       "text": [
        "\n",
        "2004"
       ]
      },
      {
       "output_type": "stream",
       "stream": "stdout",
       "text": [
        "\n",
        "2005"
       ]
      },
      {
       "output_type": "stream",
       "stream": "stdout",
       "text": [
        "\n",
        "2006"
       ]
      },
      {
       "output_type": "stream",
       "stream": "stdout",
       "text": [
        "\n",
        "2007"
       ]
      },
      {
       "output_type": "stream",
       "stream": "stdout",
       "text": [
        "\n",
        "CPU times: user 1.2 s, sys: 231 ms, total: 1.43 s\n",
        "Wall time: 2.94 s\n"
       ]
      }
     ],
     "prompt_number": 53
    },
    {
     "cell_type": "code",
     "collapsed": false,
     "input": [
      "%%time\n",
      "pool = multiprocessing.Pool(processes=4)\n",
      "r = pool.map(useless_numba, years)\n",
      "pool.close()"
     ],
     "language": "python",
     "metadata": {},
     "outputs": [
      {
       "output_type": "stream",
       "stream": "stdout",
       "text": [
        "CPU times: user 111 ms, sys: 178 ms, total: 289 ms\n",
        "Wall time: 3.89 s\n",
        "2000\n",
        "2002\n",
        "2001\n",
        "2003\n",
        "2004200520062007\n",
        "\n",
        "\n",
        "\n"
       ]
      }
     ],
     "prompt_number": 54
    },
    {
     "cell_type": "markdown",
     "metadata": {},
     "source": [
      "You can also provide type for the input and output:"
     ]
    },
    {
     "cell_type": "code",
     "collapsed": false,
     "input": [
      "@jit('f8(f4[:,:,:])')\n",
      "def calc_sum(a):\n",
      "    a_cum = 0.\n",
      "    for i in range(a.shape[0]):\n",
      "        for j in range(a.shape[1]):\n",
      "            for n in range(a.shape[2]):\n",
      "                a_cum = a_cum+a[i,j,n]\n",
      "    return a_cum\n",
      "\n",
      "def useless_numba2(year):\n",
      "    #from netCDF4 import Dataset\n",
      "    f = Dataset('air.sig995.'+year+'.nc')\n",
      "    a = f.variables['air'][:]\n",
      "    a_cum = calc_sum(a)\n",
      "    \n",
      "    d = np.array(a_cum)\n",
      "    d.tofile(year+'.bin')\n",
      "    print(year)\n",
      "    return d"
     ],
     "language": "python",
     "metadata": {},
     "outputs": [],
     "prompt_number": 55
    },
    {
     "cell_type": "code",
     "collapsed": false,
     "input": [
      "%%time\n",
      "useless_numba2('2000')"
     ],
     "language": "python",
     "metadata": {},
     "outputs": [
      {
       "output_type": "stream",
       "stream": "stdout",
       "text": [
        "2000\n",
        "CPU times: user 178 ms, sys: 58.8 ms, total: 237 ms\n",
        "Wall time: 614 ms\n"
       ]
      },
      {
       "metadata": {},
       "output_type": "pyout",
       "prompt_number": 56,
       "text": [
        "array(1068708186.2315979)"
       ]
      }
     ],
     "prompt_number": 56
    },
    {
     "cell_type": "heading",
     "level": 2,
     "metadata": {},
     "source": [
      "Native numpy"
     ]
    },
    {
     "cell_type": "markdown",
     "metadata": {},
     "source": [
      "This is how you really should solve this problem using numpy.sum(). Note, that the result will be different compared to previous examples. Only if you first convert to `float64` it becomes the same. Be careful when dealing with huge numbers!"
     ]
    },
    {
     "cell_type": "code",
     "collapsed": false,
     "input": [
      "import numpy as np\n",
      "def calc_sum(a):\n",
      "    a = np.float64(a)\n",
      "    return a.sum()\n",
      "\n",
      "def useless_good(year):\n",
      "    from netCDF4 import Dataset\n",
      "    f = Dataset('air.sig995.'+year+'.nc')\n",
      "    a = f.variables['air'][:]\n",
      "    a_cum = calc_sum(a)\n",
      "    \n",
      "    d = np.array(a_cum)\n",
      "    d.tofile(year+'.bin')\n",
      "    print(year)\n",
      "    return d"
     ],
     "language": "python",
     "metadata": {},
     "outputs": [],
     "prompt_number": 57
    },
    {
     "cell_type": "code",
     "collapsed": false,
     "input": [
      "%%time\n",
      "useless_good('2000')"
     ],
     "language": "python",
     "metadata": {},
     "outputs": [
      {
       "output_type": "stream",
       "stream": "stdout",
       "text": [
        "2000\n",
        "CPU times: user 93.6 ms, sys: 123 ms, total: 217 ms\n",
        "Wall time: 583 ms\n"
       ]
      },
      {
       "metadata": {},
       "output_type": "pyout",
       "prompt_number": 58,
       "text": [
        "array(1068708186.2315979)"
       ]
      }
     ],
     "prompt_number": 58
    },
    {
     "cell_type": "code",
     "collapsed": false,
     "input": [
      "%%time\n",
      "for yy in years:\n",
      "    useless_good(yy)"
     ],
     "language": "python",
     "metadata": {},
     "outputs": [
      {
       "output_type": "stream",
       "stream": "stdout",
       "text": [
        "2000\n",
        "2001"
       ]
      },
      {
       "output_type": "stream",
       "stream": "stdout",
       "text": [
        "\n",
        "2002"
       ]
      },
      {
       "output_type": "stream",
       "stream": "stdout",
       "text": [
        "\n",
        "2003"
       ]
      },
      {
       "output_type": "stream",
       "stream": "stdout",
       "text": [
        "\n",
        "2004"
       ]
      },
      {
       "output_type": "stream",
       "stream": "stdout",
       "text": [
        "\n",
        "2005"
       ]
      },
      {
       "output_type": "stream",
       "stream": "stdout",
       "text": [
        "\n",
        "2006"
       ]
      },
      {
       "output_type": "stream",
       "stream": "stdout",
       "text": [
        "\n",
        "2007"
       ]
      },
      {
       "output_type": "stream",
       "stream": "stdout",
       "text": [
        "\n",
        "CPU times: user 1.14 s, sys: 460 ms, total: 1.6 s\n",
        "Wall time: 3.17 s\n"
       ]
      }
     ],
     "prompt_number": 59
    },
    {
     "cell_type": "code",
     "collapsed": false,
     "input": [
      "%%time\n",
      "pool = multiprocessing.Pool(processes=4)\n",
      "r = pool.map(useless_good, years)\n",
      "pool.close()"
     ],
     "language": "python",
     "metadata": {},
     "outputs": [
      {
       "output_type": "stream",
       "stream": "stdout",
       "text": [
        "CPU times: user 209 ms, sys: 281 ms, total: 490 ms\n",
        "Wall time: 9.86 s\n",
        "2003\n",
        "2002\n",
        "2000\n",
        "2001\n",
        "2007200420062005\n",
        "\n",
        "\n",
        "\n"
       ]
      }
     ],
     "prompt_number": 60
    },
    {
     "cell_type": "heading",
     "level": 2,
     "metadata": {},
     "source": [
      "Cython 2nd try"
     ]
    },
    {
     "cell_type": "markdown",
     "metadata": {},
     "source": [
      "Here I  make cython to be aware of numpy arrays. "
     ]
    },
    {
     "cell_type": "code",
     "collapsed": false,
     "input": [
      "%%cython\n",
      "import numpy as np\n",
      "cimport numpy as np\n",
      "cimport cython\n",
      "\n",
      "def calc_sum(np.ndarray[float, ndim=3] a):\n",
      "        \n",
      "    cdef int i, j, n\n",
      "    cdef float a_cum\n",
      "    \n",
      "    a_cum = 0\n",
      "    for i in range(a.shape[0]):\n",
      "        for j in range(a.shape[1]):\n",
      "            for n in range(a.shape[2]):\n",
      "                a_cum = a_cum+(a[i,j,n])\n",
      "    return a_cum"
     ],
     "language": "python",
     "metadata": {},
     "outputs": [],
     "prompt_number": 61
    },
    {
     "cell_type": "code",
     "collapsed": false,
     "input": [
      "def useless_cython2(year):\n",
      "    from netCDF4 import Dataset\n",
      "    f = Dataset('air.sig995.'+year+'.nc')\n",
      "    a = f.variables['air'][:]\n",
      "    a_cum = calc_sum(a)\n",
      "    \n",
      "    d = np.array(a_cum)\n",
      "    d.tofile(year+'.bin')\n",
      "    print(year)\n",
      "    return d"
     ],
     "language": "python",
     "metadata": {},
     "outputs": [],
     "prompt_number": 62
    },
    {
     "cell_type": "code",
     "collapsed": false,
     "input": [
      "%%time\n",
      "useless_cython2('2000')"
     ],
     "language": "python",
     "metadata": {},
     "outputs": [
      {
       "output_type": "stream",
       "stream": "stdout",
       "text": [
        "2000\n",
        "CPU times: user 198 ms, sys: 83.2 ms, total: 281 ms\n",
        "Wall time: 1.06 s\n"
       ]
      },
      {
       "metadata": {},
       "output_type": "pyout",
       "prompt_number": 63,
       "text": [
        "array(1073134784.0)"
       ]
      }
     ],
     "prompt_number": 63
    },
    {
     "cell_type": "code",
     "collapsed": false,
     "input": [
      "%%time\n",
      "for yy in years:\n",
      "    useless_cython2(yy)"
     ],
     "language": "python",
     "metadata": {},
     "outputs": [
      {
       "output_type": "stream",
       "stream": "stdout",
       "text": [
        "2000\n",
        "2001"
       ]
      },
      {
       "output_type": "stream",
       "stream": "stdout",
       "text": [
        "\n",
        "2002"
       ]
      },
      {
       "output_type": "stream",
       "stream": "stdout",
       "text": [
        "\n",
        "2003"
       ]
      },
      {
       "output_type": "stream",
       "stream": "stdout",
       "text": [
        "\n",
        "2004"
       ]
      },
      {
       "output_type": "stream",
       "stream": "stdout",
       "text": [
        "\n",
        "2005"
       ]
      },
      {
       "output_type": "stream",
       "stream": "stdout",
       "text": [
        "\n",
        "2006"
       ]
      },
      {
       "output_type": "stream",
       "stream": "stdout",
       "text": [
        "\n",
        "2007"
       ]
      },
      {
       "output_type": "stream",
       "stream": "stdout",
       "text": [
        "\n",
        "CPU times: user 1.21 s, sys: 339 ms, total: 1.55 s\n",
        "Wall time: 3.69 s\n"
       ]
      }
     ],
     "prompt_number": 64
    },
    {
     "cell_type": "code",
     "collapsed": false,
     "input": [
      "%%time\n",
      "pool = multiprocessing.Pool(processes=4)\n",
      "r = pool.map(useless_cython2, years)\n",
      "pool.close()"
     ],
     "language": "python",
     "metadata": {},
     "outputs": [
      {
       "output_type": "stream",
       "stream": "stdout",
       "text": [
        "CPU times: user 107 ms, sys: 205 ms, total: 312 ms\n",
        "Wall time: 3.41 s\n",
        "2001\n",
        "2000\n",
        "2002\n",
        "2003\n",
        "2004200520062007\n",
        "\n",
        "\n",
        "\n"
       ]
      }
     ],
     "prompt_number": 65
    },
    {
     "cell_type": "heading",
     "level": 2,
     "metadata": {},
     "source": [
      "Further reading and watching"
     ]
    },
    {
     "cell_type": "markdown",
     "metadata": {},
     "source": [
      "[VIDEO: Cython: Speed up Python and NumPy, Pythonize C, C++, and Fortran, SciPy2013 Tutorial](http://pyvideo.org/video/2162/cython-speed-up-python-and-numpy-pythonize-c-c-7)\n",
      "\n",
      "[Numba vs. Cython: Take 2](http://nbviewer.ipython.org/url/jakevdp.github.io/downloads/notebooks/NumbaCython.ipynb)\n",
      "\n",
      "[Numexpr is a fast numerical expression evaluator for NumPy](https://github.com/pydata/numexpr)\n",
      "\n",
      "[Pythran is a python to c++ compiler for a subset of the python language](http://pythonhosted.org/pythran/)\n",
      "\n",
      "[Theano allows you to define, optimize, and evaluate mathematical expressions involving multi-dimensional arrays efficiently](http://deeplearning.net/software/theano/)\n",
      "\n"
     ]
    },
    {
     "cell_type": "code",
     "collapsed": false,
     "input": [],
     "language": "python",
     "metadata": {},
     "outputs": []
    },
    {
     "cell_type": "code",
     "collapsed": false,
     "input": [],
     "language": "python",
     "metadata": {},
     "outputs": []
    }
   ],
   "metadata": {}
  }
 ]
}