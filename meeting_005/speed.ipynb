{
 "metadata": {
  "name": "",
  "signature": "sha256:1929102d0c27bb97bd5cde6c6c0aebc4cb8474c369c87114abd27a537e57010a"
 },
 "nbformat": 3,
 "nbformat_minor": 0,
 "worksheets": [
  {
   "cells": [
    {
     "cell_type": "heading",
     "level": 1,
     "metadata": {},
     "source": [
      "Make your python scripts run faster"
     ]
    },
    {
     "cell_type": "heading",
     "level": 2,
     "metadata": {},
     "source": [
      "Multiprocessor"
     ]
    },
    {
     "cell_type": "markdown",
     "metadata": {},
     "source": [
      "Download some data to work with"
     ]
    },
    {
     "cell_type": "code",
     "collapsed": false,
     "input": [
      "variabs = ['air']\n",
      "for vvv in variabs:\n",
      "    for i in range(2000,2010):\n",
      "        !wget ftp://ftp.cdc.noaa.gov/Datasets/ncep.reanalysis.dailyavgs/surface/{vvv}.sig995.{i}.nc"
     ],
     "language": "python",
     "metadata": {},
     "outputs": []
    },
    {
     "cell_type": "code",
     "collapsed": false,
     "input": [
      "ls *nc"
     ],
     "language": "python",
     "metadata": {},
     "outputs": [
      {
       "output_type": "stream",
       "stream": "stdout",
       "text": [
        "air.sig995.2000.nc  air.sig995.2002.nc  air.sig995.2004.nc  air.sig995.2006.nc  air.sig995.2008.nc\r\n",
        "air.sig995.2001.nc  air.sig995.2003.nc  air.sig995.2005.nc  air.sig995.2007.nc  air.sig995.2009.nc\r\n"
       ]
      }
     ],
     "prompt_number": 3
    },
    {
     "cell_type": "markdown",
     "metadata": {},
     "source": [
      "Some nessesary input"
     ]
    },
    {
     "cell_type": "code",
     "collapsed": false,
     "input": [
      "from netCDF4 import Dataset"
     ],
     "language": "python",
     "metadata": {},
     "outputs": [],
     "prompt_number": 4
    },
    {
     "cell_type": "markdown",
     "metadata": {},
     "source": [
      "Create useless but time consuming function, that have a lot of loops in it. It takes year as an input and then just summs up all the numbers one by one."
     ]
    },
    {
     "cell_type": "code",
     "collapsed": false,
     "input": [
      "def useless(year):\n",
      "    f = Dataset('air.sig995.'+year+'.nc')\n",
      "    a = f.variables['air'][:]\n",
      "    a_cum = 0\n",
      "    for i in range(a.shape[0]):\n",
      "        for j in range(a.shape[1]):\n",
      "            for n in range(a.shape[2]):\n",
      "                a_cum = a_cum+a[i,j,n]\n",
      "                \n",
      "    a_cum.tofile(year+'.bin')\n",
      "    print(year)\n",
      "    return a_cum"
     ],
     "language": "python",
     "metadata": {},
     "outputs": [],
     "prompt_number": 5
    },
    {
     "cell_type": "markdown",
     "metadata": {},
     "source": [
      "It works slow enough:"
     ]
    },
    {
     "cell_type": "code",
     "collapsed": false,
     "input": [
      "%%time\n",
      "useless('2000')"
     ],
     "language": "python",
     "metadata": {},
     "outputs": [
      {
       "output_type": "stream",
       "stream": "stdout",
       "text": [
        "2000\n",
        "CPU times: user 2.42 s, sys: 28 ms, total: 2.45 s\n",
        "Wall time: 2.43 s\n"
       ]
      },
      {
       "metadata": {},
       "output_type": "pyout",
       "prompt_number": 24,
       "text": [
        "1068708186.2315979"
       ]
      }
     ],
     "prompt_number": 24
    },
    {
     "cell_type": "markdown",
     "metadata": {},
     "source": [
      "We can create a loop that will process several files one by one. First make a list of years:"
     ]
    },
    {
     "cell_type": "code",
     "collapsed": false,
     "input": [
      "years = [str(x) for x in range(2000,2008)]\n",
      "years"
     ],
     "language": "python",
     "metadata": {},
     "outputs": [
      {
       "metadata": {},
       "output_type": "pyout",
       "prompt_number": 7,
       "text": [
        "['2000', '2001', '2002', '2003', '2004', '2005', '2006', '2007']"
       ]
      }
     ],
     "prompt_number": 7
    },
    {
     "cell_type": "markdown",
     "metadata": {},
     "source": [
      "And now the loop:"
     ]
    },
    {
     "cell_type": "code",
     "collapsed": false,
     "input": [
      "%%time\n",
      "for yy in years:\n",
      "    useless(yy)"
     ],
     "language": "python",
     "metadata": {},
     "outputs": [
      {
       "output_type": "stream",
       "stream": "stdout",
       "text": [
        "2000\n",
        "2001"
       ]
      },
      {
       "output_type": "stream",
       "stream": "stdout",
       "text": [
        "\n",
        "2002"
       ]
      },
      {
       "output_type": "stream",
       "stream": "stdout",
       "text": [
        "\n",
        "2003"
       ]
      },
      {
       "output_type": "stream",
       "stream": "stdout",
       "text": [
        "\n",
        "2004"
       ]
      },
      {
       "output_type": "stream",
       "stream": "stdout",
       "text": [
        "\n",
        "2005"
       ]
      },
      {
       "output_type": "stream",
       "stream": "stdout",
       "text": [
        "\n",
        "2006"
       ]
      },
      {
       "output_type": "stream",
       "stream": "stdout",
       "text": [
        "\n",
        "2007"
       ]
      },
      {
       "output_type": "stream",
       "stream": "stdout",
       "text": [
        "\n",
        "CPU times: user 19.1 s, sys: 188 ms, total: 19.3 s\n",
        "Wall time: 19.1 s\n"
       ]
      }
     ],
     "prompt_number": 8
    },
    {
     "cell_type": "markdown",
     "metadata": {},
     "source": [
      "Processing of each file is independent from others. This is \"embarrassingly parallel\" problem and can be done very easily done in parallel with `multiprocessing` module of the standard library:"
     ]
    },
    {
     "cell_type": "code",
     "collapsed": false,
     "input": [
      "import multiprocessing"
     ],
     "language": "python",
     "metadata": {},
     "outputs": [],
     "prompt_number": 12
    },
    {
     "cell_type": "code",
     "collapsed": false,
     "input": [
      "pool = multiprocessing.Pool(processes=4)"
     ],
     "language": "python",
     "metadata": {},
     "outputs": [],
     "prompt_number": 13
    },
    {
     "cell_type": "code",
     "collapsed": false,
     "input": [
      "%%time\n",
      "r = pool.map(useless, years)\n",
      "pool.close()"
     ],
     "language": "python",
     "metadata": {},
     "outputs": [
      {
       "output_type": "stream",
       "stream": "stdout",
       "text": [
        "CPU times: user 12 ms, sys: 0 ns, total: 12 ms\n",
        "Wall time: 9.59 s\n",
        "2003\n",
        "2002\n",
        "2000\n",
        "2001\n",
        "2004200520062007\n",
        "\n",
        "\n",
        "\n"
       ]
      }
     ],
     "prompt_number": 14
    },
    {
     "cell_type": "heading",
     "level": 2,
     "metadata": {},
     "source": [
      "IPython parallel"
     ]
    },
    {
     "cell_type": "markdown",
     "metadata": {},
     "source": [
      "IPython\u2019s sophisticated and powerful architecture for parallel and distributed computing. [Documentation](http://ipython.org/ipython-doc/dev/parallel/parallel_intro.html)."
     ]
    },
    {
     "cell_type": "markdown",
     "metadata": {},
     "source": [
      "You have to start ipycluster in terminal, or in the Dashboard of IPython notebook:\n",
      "\n",
      "    ipcluster start -n 2"
     ]
    },
    {
     "cell_type": "code",
     "collapsed": false,
     "input": [
      "from IPython.parallel import Client"
     ],
     "language": "python",
     "metadata": {},
     "outputs": [],
     "prompt_number": 15
    },
    {
     "cell_type": "code",
     "collapsed": false,
     "input": [
      "c = Client()\n",
      "dv = c[:]"
     ],
     "language": "python",
     "metadata": {},
     "outputs": [],
     "prompt_number": 16
    },
    {
     "cell_type": "code",
     "collapsed": false,
     "input": [
      "dv.map_sync(useless, years)"
     ],
     "language": "python",
     "metadata": {},
     "outputs": [
      {
       "ename": "CompositeError",
       "evalue": "one or more exceptions from call to method: useless\n[0:apply]: NameError: global name 'Dataset' is not defined\n[1:apply]: NameError: global name 'Dataset' is not defined\n[2:apply]: NameError: global name 'Dataset' is not defined\n[3:apply]: NameError: global name 'Dataset' is not defined",
       "output_type": "pyerr",
       "traceback": [
        "[0:apply]: ",
        "\u001b[1;31m---------------------------------------------------------------------------\u001b[0m",
        "\u001b[1;31mNameError\u001b[0m                                 Traceback (most recent call last)\u001b[1;32m<string>\u001b[0m in \u001b[0;36m<module>\u001b[1;34m()\u001b[0m",
        "\u001b[1;32m<ipython-input-5-1ba0121b92b1>\u001b[0m in \u001b[0;36museless\u001b[1;34m(year)\u001b[0m",
        "\u001b[1;31mNameError\u001b[0m: global name 'Dataset' is not defined",
        "",
        "[1:apply]: ",
        "\u001b[1;31m---------------------------------------------------------------------------\u001b[0m",
        "\u001b[1;31mNameError\u001b[0m                                 Traceback (most recent call last)\u001b[1;32m<string>\u001b[0m in \u001b[0;36m<module>\u001b[1;34m()\u001b[0m",
        "\u001b[1;32m<ipython-input-5-1ba0121b92b1>\u001b[0m in \u001b[0;36museless\u001b[1;34m(year)\u001b[0m",
        "\u001b[1;31mNameError\u001b[0m: global name 'Dataset' is not defined",
        "",
        "[2:apply]: ",
        "\u001b[1;31m---------------------------------------------------------------------------\u001b[0m",
        "\u001b[1;31mNameError\u001b[0m                                 Traceback (most recent call last)\u001b[1;32m<string>\u001b[0m in \u001b[0;36m<module>\u001b[1;34m()\u001b[0m",
        "\u001b[1;32m<ipython-input-5-1ba0121b92b1>\u001b[0m in \u001b[0;36museless\u001b[1;34m(year)\u001b[0m",
        "\u001b[1;31mNameError\u001b[0m: global name 'Dataset' is not defined",
        "",
        "[3:apply]: ",
        "\u001b[1;31m---------------------------------------------------------------------------\u001b[0m",
        "\u001b[1;31mNameError\u001b[0m                                 Traceback (most recent call last)\u001b[1;32m<string>\u001b[0m in \u001b[0;36m<module>\u001b[1;34m()\u001b[0m",
        "\u001b[1;32m<ipython-input-5-1ba0121b92b1>\u001b[0m in \u001b[0;36museless\u001b[1;34m(year)\u001b[0m",
        "\u001b[1;31mNameError\u001b[0m: global name 'Dataset' is not defined",
        ""
       ]
      }
     ],
     "prompt_number": 17
    },
    {
     "cell_type": "markdown",
     "metadata": {},
     "source": [
      "For this example to work one have to insert imports to the function itself. I also add return value since prints are not displayed:"
     ]
    },
    {
     "cell_type": "code",
     "collapsed": false,
     "input": [
      "def useless(year):\n",
      "    from netCDF4 import Dataset\n",
      "    f = Dataset('air.sig995.'+year+'.nc')\n",
      "    a = f.variables['air'][:]\n",
      "    a_cum = 0\n",
      "    for i in range(a.shape[0]):\n",
      "        for j in range(a.shape[1]):\n",
      "            for n in range(a.shape[2]):\n",
      "                a_cum = a_cum+a[i,j,n]\n",
      "                \n",
      "    a_cum.tofile(year+'.bin')\n",
      "    print(year)\n",
      "    return a_cum"
     ],
     "language": "python",
     "metadata": {},
     "outputs": [],
     "prompt_number": 18
    },
    {
     "cell_type": "code",
     "collapsed": false,
     "input": [
      "%%time\n",
      "dv.map_sync(useless, years)"
     ],
     "language": "python",
     "metadata": {},
     "outputs": [
      {
       "output_type": "stream",
       "stream": "stdout",
       "text": [
        "CPU times: user 1.38 s, sys: 28 ms, total: 1.41 s\n",
        "Wall time: 9.68 s\n"
       ]
      },
      {
       "metadata": {},
       "output_type": "pyout",
       "prompt_number": 19,
       "text": [
        "[1068708186.2315979,\n",
        " 1066338789.4099426,\n",
        " 1067398591.1067505,\n",
        " 1067101319.5908813,\n",
        " 1069489766.7407532,\n",
        " 1068335666.2971191,\n",
        " 1067610940.7516174,\n",
        " 1067912111.7565918]"
       ]
      }
     ],
     "prompt_number": 19
    },
    {
     "cell_type": "markdown",
     "metadata": {},
     "source": [
      "Good idea is to stop cluster afterwards :)\n",
      "\n",
      "    ipcluster stop"
     ]
    },
    {
     "cell_type": "heading",
     "level": 2,
     "metadata": {},
     "source": [
      "Cython"
     ]
    },
    {
     "cell_type": "markdown",
     "metadata": {},
     "source": [
      "[Cython](http://cython.org/) is an optimising static compiler for Python. Cython magic is one of the default extensions, and we can just load it:"
     ]
    },
    {
     "cell_type": "code",
     "collapsed": false,
     "input": [
      "%load_ext cythonmagic"
     ],
     "language": "python",
     "metadata": {},
     "outputs": [],
     "prompt_number": 21
    },
    {
     "cell_type": "markdown",
     "metadata": {},
     "source": [
      "The only thing we do here - add `%%cython` magic at the top of the cell. This function will be compiled with cython. "
     ]
    },
    {
     "cell_type": "code",
     "collapsed": false,
     "input": [
      "%%cython\n",
      "def useless_cython(year):\n",
      "    from netCDF4 import Dataset\n",
      "    f = Dataset('air.sig995.'+year+'.nc')\n",
      "    a = f.variables['air'][:]\n",
      "    a_cum = 0\n",
      "    for i in range(a.shape[0]):\n",
      "        for j in range(a.shape[1]):\n",
      "            for n in range(a.shape[2]):\n",
      "                a_cum = a_cum+a[i,j,n]\n",
      "                \n",
      "    a_cum.tofile(year+'.bin')\n",
      "    print(year)\n",
      "    return a_cum"
     ],
     "language": "python",
     "metadata": {},
     "outputs": [],
     "prompt_number": 22
    },
    {
     "cell_type": "markdown",
     "metadata": {},
     "source": [
      "Only this give us a good boost:"
     ]
    },
    {
     "cell_type": "code",
     "collapsed": false,
     "input": [
      "%%time\n",
      "useless_cython('2000')"
     ],
     "language": "python",
     "metadata": {},
     "outputs": [
      {
       "output_type": "stream",
       "stream": "stdout",
       "text": [
        "2000\n",
        "CPU times: user 2.36 s, sys: 32 ms, total: 2.4 s\n",
        "Wall time: 2.39 s\n"
       ]
      },
      {
       "metadata": {},
       "output_type": "pyout",
       "prompt_number": 25,
       "text": [
        "1068708186.2315979"
       ]
      }
     ],
     "prompt_number": 25
    },
    {
     "cell_type": "code",
     "collapsed": false,
     "input": [
      "%%time\n",
      "for yy in years:\n",
      "    useless_cython(yy)"
     ],
     "language": "python",
     "metadata": {},
     "outputs": [
      {
       "output_type": "stream",
       "stream": "stdout",
       "text": [
        "2000\n",
        "2001"
       ]
      },
      {
       "output_type": "stream",
       "stream": "stdout",
       "text": [
        "\n",
        "2002"
       ]
      },
      {
       "output_type": "stream",
       "stream": "stdout",
       "text": [
        "\n",
        "2003"
       ]
      },
      {
       "output_type": "stream",
       "stream": "stdout",
       "text": [
        "\n",
        "2004"
       ]
      },
      {
       "output_type": "stream",
       "stream": "stdout",
       "text": [
        "\n",
        "2005"
       ]
      },
      {
       "output_type": "stream",
       "stream": "stdout",
       "text": [
        "\n",
        "2006"
       ]
      },
      {
       "output_type": "stream",
       "stream": "stdout",
       "text": [
        "\n",
        "2007"
       ]
      },
      {
       "output_type": "stream",
       "stream": "stdout",
       "text": [
        "\n",
        "CPU times: user 18.8 s, sys: 156 ms, total: 19 s\n",
        "Wall time: 19 s\n"
       ]
      }
     ],
     "prompt_number": 26
    },
    {
     "cell_type": "code",
     "collapsed": false,
     "input": [
      "%%time\n",
      "pool = multiprocessing.Pool(processes=4)\n",
      "r = pool.map(useless_cython, years)\n",
      "pool.close()"
     ],
     "language": "python",
     "metadata": {},
     "outputs": [
      {
       "output_type": "stream",
       "stream": "stdout",
       "text": [
        "CPU times: user 24 ms, sys: 8 ms, total: 32 ms\n",
        "Wall time: 8.49 s\n",
        "2001\n",
        "2002\n",
        "2003\n",
        "2000\n",
        "2005200420062007\n",
        "\n",
        "\n",
        "\n"
       ]
      }
     ],
     "prompt_number": 27
    },
    {
     "cell_type": "markdown",
     "metadata": {},
     "source": [
      "But the true power of cython revealed only when you provide types of your variables. You have to use `cdef` keyword in the function definition to do so. There are also couple other modifications to the function"
     ]
    },
    {
     "cell_type": "code",
     "collapsed": false,
     "input": [
      "%%cython\n",
      "import numpy as np\n",
      "\n",
      "def useless_cython(year):\n",
      "    \n",
      "    # define types of variables\n",
      "    cdef int i, j, n\n",
      "    cdef double a_cum\n",
      "    \n",
      "    from netCDF4 import Dataset\n",
      "    f = Dataset('air.sig995.'+year+'.nc')\n",
      "    a = f.variables['air'][:]\n",
      "    \n",
      "    a_cum = 0.\n",
      "    for i in range(a.shape[0]):\n",
      "        for j in range(a.shape[1]):\n",
      "            for n in range(a.shape[2]):\n",
      "                #here we have to convert numpy value to simple float\n",
      "                a_cum = a_cum+float(a[i,j,n])\n",
      "    \n",
      "    # since a_cum is not numpy variable anymore,\n",
      "    # we introduce new variable d in order to save\n",
      "    # data to the file easily\n",
      "    d = np.array(a_cum)\n",
      "    d.tofile(year+'.bin')\n",
      "    print(year)\n",
      "    return d"
     ],
     "language": "python",
     "metadata": {},
     "outputs": [],
     "prompt_number": 28
    },
    {
     "cell_type": "code",
     "collapsed": false,
     "input": [
      "%%time\n",
      "useless_cython('2000')"
     ],
     "language": "python",
     "metadata": {},
     "outputs": [
      {
       "output_type": "stream",
       "stream": "stdout",
       "text": [
        "2000\n",
        "CPU times: user 732 ms, sys: 20 ms, total: 752 ms\n",
        "Wall time: 753 ms\n"
       ]
      },
      {
       "metadata": {},
       "output_type": "pyout",
       "prompt_number": 29,
       "text": [
        "array(1068708186.2315979)"
       ]
      }
     ],
     "prompt_number": 29
    },
    {
     "cell_type": "code",
     "collapsed": false,
     "input": [
      "%%time\n",
      "for yy in years:\n",
      "    useless_cython(yy)"
     ],
     "language": "python",
     "metadata": {},
     "outputs": [
      {
       "output_type": "stream",
       "stream": "stdout",
       "text": [
        "2000\n",
        "2001"
       ]
      },
      {
       "output_type": "stream",
       "stream": "stdout",
       "text": [
        "\n",
        "2002"
       ]
      },
      {
       "output_type": "stream",
       "stream": "stdout",
       "text": [
        "\n",
        "2003"
       ]
      },
      {
       "output_type": "stream",
       "stream": "stdout",
       "text": [
        "\n",
        "2004"
       ]
      },
      {
       "output_type": "stream",
       "stream": "stdout",
       "text": [
        "\n",
        "2005"
       ]
      },
      {
       "output_type": "stream",
       "stream": "stdout",
       "text": [
        "\n",
        "2006"
       ]
      },
      {
       "output_type": "stream",
       "stream": "stdout",
       "text": [
        "\n",
        "2007"
       ]
      },
      {
       "output_type": "stream",
       "stream": "stdout",
       "text": [
        "\n",
        "CPU times: user 6.01 s, sys: 168 ms, total: 6.18 s\n",
        "Wall time: 6.17 s\n"
       ]
      }
     ],
     "prompt_number": 30
    },
    {
     "cell_type": "code",
     "collapsed": false,
     "input": [
      "%%time\n",
      "pool = multiprocessing.Pool(processes=4)\n",
      "r = pool.map(useless_cython, years)\n",
      "pool.close()"
     ],
     "language": "python",
     "metadata": {},
     "outputs": [
      {
       "output_type": "stream",
       "stream": "stdout",
       "text": [
        "CPU times: user 0 ns, sys: 20 ms, total: 20 ms\n",
        "Wall time: 3.68 s\n",
        "2003\n",
        "2001\n",
        "2002\n",
        "2000\n",
        "2004200520062007\n",
        "\n",
        "\n",
        "\n"
       ]
      }
     ],
     "prompt_number": 31
    },
    {
     "cell_type": "heading",
     "level": 2,
     "metadata": {},
     "source": [
      "Numba"
     ]
    },
    {
     "cell_type": "markdown",
     "metadata": {},
     "source": [
      "[Numba](http://numba.pydata.org/) is an just-in-time specializing compiler which compiles annotated Python and NumPy code to LLVM (through decorators)."
     ]
    },
    {
     "cell_type": "code",
     "collapsed": false,
     "input": [
      "from numba import jit"
     ],
     "language": "python",
     "metadata": {},
     "outputs": [],
     "prompt_number": 32
    },
    {
     "cell_type": "markdown",
     "metadata": {},
     "source": [
      "We now have to split our function in two (that would be a good idea from the beggining). One is just number crunching part, and another responsible for IO. The only thing that we have to do afterwards is to put `jit` decorator in front of the  first function."
     ]
    },
    {
     "cell_type": "code",
     "collapsed": false,
     "input": [
      "@jit\n",
      "def calc_sum(a):\n",
      "    a_cum = 0\n",
      "    for i in range(a.shape[0]):\n",
      "        for j in range(a.shape[1]):\n",
      "            for n in range(a.shape[2]):\n",
      "                a_cum = a_cum+a[i,j,n]\n",
      "    return a_cum\n",
      "\n",
      "def useless_numba(year):\n",
      "    #from netCDF4 import Dataset\n",
      "    f = Dataset('air.sig995.'+year+'.nc')\n",
      "    a = f.variables['air'][:]\n",
      "    a_cum = calc_sum(a)\n",
      "    \n",
      "    d = np.array(a_cum)\n",
      "    d.tofile(year+'.bin')\n",
      "    print(year)\n",
      "    return d"
     ],
     "language": "python",
     "metadata": {},
     "outputs": [],
     "prompt_number": 33
    },
    {
     "cell_type": "code",
     "collapsed": false,
     "input": [
      "%%time\n",
      "useless_numba('2000')"
     ],
     "language": "python",
     "metadata": {},
     "outputs": [
      {
       "output_type": "stream",
       "stream": "stdout",
       "text": [
        "2000\n",
        "CPU times: user 216 ms, sys: 28 ms, total: 244 ms\n",
        "Wall time: 238 ms\n"
       ]
      },
      {
       "metadata": {},
       "output_type": "pyout",
       "prompt_number": 34,
       "text": [
        "array(1068708186.2315979)"
       ]
      }
     ],
     "prompt_number": 34
    },
    {
     "cell_type": "code",
     "collapsed": false,
     "input": [
      "%%time\n",
      "for yy in years:\n",
      "    useless_numba(yy)"
     ],
     "language": "python",
     "metadata": {},
     "outputs": [
      {
       "output_type": "stream",
       "stream": "stdout",
       "text": [
        "2000\n",
        "2001"
       ]
      },
      {
       "output_type": "stream",
       "stream": "stdout",
       "text": [
        "\n",
        "2002"
       ]
      },
      {
       "output_type": "stream",
       "stream": "stdout",
       "text": [
        "\n",
        "2003"
       ]
      },
      {
       "output_type": "stream",
       "stream": "stdout",
       "text": [
        "\n",
        "2004"
       ]
      },
      {
       "output_type": "stream",
       "stream": "stdout",
       "text": [
        "\n",
        "2005"
       ]
      },
      {
       "output_type": "stream",
       "stream": "stdout",
       "text": [
        "\n",
        "2006"
       ]
      },
      {
       "output_type": "stream",
       "stream": "stdout",
       "text": [
        "\n",
        "2007"
       ]
      },
      {
       "output_type": "stream",
       "stream": "stdout",
       "text": [
        "\n",
        "CPU times: user 388 ms, sys: 164 ms, total: 552 ms\n",
        "Wall time: 549 ms\n"
       ]
      }
     ],
     "prompt_number": 36
    },
    {
     "cell_type": "code",
     "collapsed": false,
     "input": [
      "%%time\n",
      "pool = multiprocessing.Pool(processes=4)\n",
      "r = pool.map(useless_numba, years)\n",
      "pool.close()"
     ],
     "language": "python",
     "metadata": {},
     "outputs": [
      {
       "output_type": "stream",
       "stream": "stdout",
       "text": [
        "CPU times: user 0 ns, sys: 12 ms, total: 12 ms\n",
        "Wall time: 242 ms\n",
        "2000\n",
        "2003\n",
        "2002\n",
        "2001\n",
        "2004200520072006\n",
        "\n",
        "\n",
        "\n"
       ]
      }
     ],
     "prompt_number": 37
    },
    {
     "cell_type": "heading",
     "level": 2,
     "metadata": {},
     "source": [
      "Native numpy"
     ]
    },
    {
     "cell_type": "markdown",
     "metadata": {},
     "source": [
      "This is how you really should solve this problem using numpy.sum(). Note, that the result will be different compared to previous examples. Only if you first convert to `float64` it becomes the same. Be careful when dealing with huge numbers!"
     ]
    },
    {
     "cell_type": "code",
     "collapsed": false,
     "input": [
      "import numpy as np\n",
      "def calc_sum(a):\n",
      "    #a = np.float64(a)\n",
      "    return a.sum()\n",
      "\n",
      "def useless_good(year):\n",
      "    from netCDF4 import Dataset\n",
      "    f = Dataset('air.sig995.'+year+'.nc')\n",
      "    a = f.variables['air'][:]\n",
      "    a_cum = calc_sum(a)\n",
      "    \n",
      "    d = np.array(a_cum)\n",
      "    d.tofile(year+'.bin')\n",
      "    print(year)\n",
      "    return d"
     ],
     "language": "python",
     "metadata": {},
     "outputs": [],
     "prompt_number": 42
    },
    {
     "cell_type": "code",
     "collapsed": false,
     "input": [
      "%%time\n",
      "useless_good('2000')"
     ],
     "language": "python",
     "metadata": {},
     "outputs": [
      {
       "output_type": "stream",
       "stream": "stdout",
       "text": [
        "2000\n",
        "CPU times: user 44 ms, sys: 24 ms, total: 68 ms\n",
        "Wall time: 66 ms\n"
       ]
      },
      {
       "metadata": {},
       "output_type": "pyout",
       "prompt_number": 43,
       "text": [
        "array(1073134784.0, dtype=float32)"
       ]
      }
     ],
     "prompt_number": 43
    },
    {
     "cell_type": "code",
     "collapsed": false,
     "input": [
      "%%time\n",
      "for yy in years:\n",
      "    useless_good(yy)"
     ],
     "language": "python",
     "metadata": {},
     "outputs": [
      {
       "output_type": "stream",
       "stream": "stdout",
       "text": [
        "2000\n",
        "2001"
       ]
      },
      {
       "output_type": "stream",
       "stream": "stdout",
       "text": [
        "\n",
        "2002"
       ]
      },
      {
       "output_type": "stream",
       "stream": "stdout",
       "text": [
        "\n",
        "2003"
       ]
      },
      {
       "output_type": "stream",
       "stream": "stdout",
       "text": [
        "\n",
        "2004"
       ]
      },
      {
       "output_type": "stream",
       "stream": "stdout",
       "text": [
        "\n",
        "2005"
       ]
      },
      {
       "output_type": "stream",
       "stream": "stdout",
       "text": [
        "\n",
        "2006"
       ]
      },
      {
       "output_type": "stream",
       "stream": "stdout",
       "text": [
        "\n",
        "2007"
       ]
      },
      {
       "output_type": "stream",
       "stream": "stdout",
       "text": [
        "\n",
        "CPU times: user 356 ms, sys: 144 ms, total: 500 ms\n",
        "Wall time: 501 ms\n"
       ]
      }
     ],
     "prompt_number": 44
    },
    {
     "cell_type": "code",
     "collapsed": false,
     "input": [
      "%%time\n",
      "pool = multiprocessing.Pool(processes=4)\n",
      "r = pool.map(useless_good, years)\n",
      "pool.close()"
     ],
     "language": "python",
     "metadata": {},
     "outputs": [
      {
       "output_type": "stream",
       "stream": "stdout",
       "text": [
        "CPU times: user 4 ms, sys: 12 ms, total: 16 ms\n",
        "Wall time: 231 ms\n",
        "2002\n",
        "2001\n",
        "2000\n",
        "2003\n",
        "2004200520062007\n",
        "\n",
        "\n",
        "\n"
       ]
      }
     ],
     "prompt_number": 45
    },
    {
     "cell_type": "heading",
     "level": 2,
     "metadata": {},
     "source": [
      "Further reading"
     ]
    },
    {
     "cell_type": "markdown",
     "metadata": {},
     "source": [
      "[Numba vs. Cython: Take 2](http://nbviewer.ipython.org/url/jakevdp.github.io/downloads/notebooks/NumbaCython.ipynb)\n",
      "\n",
      "[Fast numerical array expression evaluator for Python, NumPy, PyTables, pandas, BLZ](https://github.com/pydata/numexpr)\n",
      "\n",
      "[Theano allows you to define, optimize, and evaluate mathematical expressions involving multi-dimensional arrays efficiently](http://deeplearning.net/software/theano/)\n",
      "\n"
     ]
    },
    {
     "cell_type": "code",
     "collapsed": false,
     "input": [],
     "language": "python",
     "metadata": {},
     "outputs": []
    },
    {
     "cell_type": "code",
     "collapsed": false,
     "input": [],
     "language": "python",
     "metadata": {},
     "outputs": []
    },
    {
     "cell_type": "code",
     "collapsed": false,
     "input": [],
     "language": "python",
     "metadata": {},
     "outputs": []
    },
    {
     "cell_type": "code",
     "collapsed": false,
     "input": [],
     "language": "python",
     "metadata": {},
     "outputs": []
    },
    {
     "cell_type": "code",
     "collapsed": false,
     "input": [],
     "language": "python",
     "metadata": {},
     "outputs": []
    },
    {
     "cell_type": "markdown",
     "metadata": {},
     "source": [
      "Here I try to make cython be aware of numpy arrays, but without huge succes..."
     ]
    },
    {
     "cell_type": "code",
     "collapsed": false,
     "input": [
      "%%cython\n",
      "import numpy as np\n",
      "cimport numpy as np\n",
      "\n",
      "DTYPE = np.float32\n",
      "#ctypedef np.int_t DTYPE_t\n",
      "\n",
      "def calc_sum(np.ndarray a):\n",
      "    \n",
      "    assert a.dtype == DTYPE\n",
      "    \n",
      "    cdef int i, j, n\n",
      "    cdef float a_cum\n",
      "    \n",
      "    a_cum = 0\n",
      "    for i in range(a.shape[0]):\n",
      "        for j in range(a.shape[1]):\n",
      "            for n in range(a.shape[2]):\n",
      "                a_cum = a_cum+float(a[i,j,n])\n",
      "    return float(a_cum)"
     ],
     "language": "python",
     "metadata": {},
     "outputs": []
    },
    {
     "cell_type": "code",
     "collapsed": false,
     "input": [
      "def useless_cython2(year):\n",
      "    from netCDF4 import Dataset\n",
      "    f = Dataset('air.sig995.'+year+'.nc')\n",
      "    a = f.variables['air'][:]\n",
      "    a_cum = calc_sum(a)\n",
      "    \n",
      "    d = np.array(a_cum)\n",
      "    d.tofile(year+'.bin')\n",
      "    print(year)\n",
      "    return d"
     ],
     "language": "python",
     "metadata": {},
     "outputs": []
    },
    {
     "cell_type": "code",
     "collapsed": false,
     "input": [
      "%%time\n",
      "for yy in years:\n",
      "    useless_cython2(yy)"
     ],
     "language": "python",
     "metadata": {},
     "outputs": []
    },
    {
     "cell_type": "code",
     "collapsed": false,
     "input": [
      "useless_cython2('2000')"
     ],
     "language": "python",
     "metadata": {},
     "outputs": []
    },
    {
     "cell_type": "code",
     "collapsed": false,
     "input": [],
     "language": "python",
     "metadata": {},
     "outputs": []
    }
   ],
   "metadata": {}
  }
 ]
}