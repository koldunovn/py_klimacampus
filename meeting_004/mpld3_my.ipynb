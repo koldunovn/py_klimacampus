{
 "metadata": {
  "name": "",
  "signature": "sha256:ea2d1fd8eac9e7473a7e27ba375fcd52fb7dfae381c0dcb4057948995e11d1dd"
 },
 "nbformat": 3,
 "nbformat_minor": 0,
 "worksheets": [
  {
   "cells": [
    {
     "cell_type": "heading",
     "level": 1,
     "metadata": {},
     "source": [
      "mpld3"
     ]
    },
    {
     "cell_type": "markdown",
     "metadata": {},
     "source": [
      "The mpld3 project brings together Matplotlib, the popular Python-based graphing library, and D3js, the popular Javascript library for creating interactive data visualizations for the web. \n",
      "\n",
      "[Documentation](http://mpld3.github.io/)\n",
      "\n",
      "[Source code](https://github.com/jakevdp/mpld3)"
     ]
    },
    {
     "cell_type": "code",
     "collapsed": false,
     "input": [
      "%matplotlib inline\n",
      "import numpy as np\n",
      "import pandas as pd\n",
      "#import seaborn as sns"
     ],
     "language": "python",
     "metadata": {},
     "outputs": []
    },
    {
     "cell_type": "markdown",
     "metadata": {},
     "source": [
      "Download data (AO, NAO, PNA indices):"
     ]
    },
    {
     "cell_type": "code",
     "collapsed": false,
     "input": [
      "!wget http://www.cpc.ncep.noaa.gov/products/precip/CWlink/daily_ao_index/monthly.ao.index.b50.current.ascii\n",
      "!wget http://www.cpc.ncep.noaa.gov/products/precip/CWlink/pna/norm.nao.monthly.b5001.current.ascii\n",
      "!wget http://www.cpc.ncep.noaa.gov/products/precip/CWlink/pna/norm.pna.monthly.b5001.current.ascii"
     ],
     "language": "python",
     "metadata": {},
     "outputs": []
    },
    {
     "cell_type": "markdown",
     "metadata": {},
     "source": [
      "Create pandas data frame (ind) out of them:"
     ]
    },
    {
     "cell_type": "code",
     "collapsed": false,
     "input": [
      "AO = pd.read_table('monthly.ao.index.b50.current.ascii', sep='\\s*', \\\n",
      "              parse_dates={'dates':[0, 1]}, header=None, index_col=0, squeeze=True)\n",
      "NAO = pd.read_table('norm.nao.monthly.b5001.current.ascii', sep='\\s*', \\\n",
      "              parse_dates={'dates':[0, 1]}, header=None, index_col=0, squeeze=True)\n",
      "PNA = pd.read_table('norm.pna.monthly.b5001.current.ascii', sep='\\s*', \\\n",
      "              parse_dates={'dates':[0, 1]}, header=None, index_col=0, squeeze=True)\n",
      "\n",
      "ind = pd.DataFrame({'AO':AO, 'NAO':NAO, 'PNA':PNA})"
     ],
     "language": "python",
     "metadata": {},
     "outputs": []
    },
    {
     "cell_type": "markdown",
     "metadata": {},
     "source": [
      "This is how usuall plot looks like (already with `seaborn` style):"
     ]
    },
    {
     "cell_type": "code",
     "collapsed": false,
     "input": [
      "ind.plot()"
     ],
     "language": "python",
     "metadata": {},
     "outputs": []
    },
    {
     "cell_type": "markdown",
     "metadata": {},
     "source": [
      "Now we just import `mpld3` library and make all the plots use it:"
     ]
    },
    {
     "cell_type": "code",
     "collapsed": false,
     "input": [
      "import mpld3\n",
      "mpld3.enable_notebook()"
     ],
     "language": "python",
     "metadata": {},
     "outputs": []
    },
    {
     "cell_type": "code",
     "collapsed": false,
     "input": [],
     "language": "python",
     "metadata": {},
     "outputs": []
    },
    {
     "cell_type": "code",
     "collapsed": false,
     "input": [
      "ind.plot()"
     ],
     "language": "python",
     "metadata": {},
     "outputs": []
    },
    {
     "cell_type": "code",
     "collapsed": false,
     "input": [
      "sns.regplot('AO', 'NAO', data=ind)"
     ],
     "language": "python",
     "metadata": {},
     "outputs": []
    },
    {
     "cell_type": "code",
     "collapsed": false,
     "input": [
      "from mpld3 import plugins"
     ],
     "language": "python",
     "metadata": {},
     "outputs": []
    },
    {
     "cell_type": "code",
     "collapsed": false,
     "input": [
      "fig, ax = plt.subplots()\n",
      "ll = ind.AO.plot(style='-o')\n",
      "#plugins.clear(fig)  # clear all plugins from the figure\n",
      "labels = list(ind[:].AO.values)\n",
      "\n",
      "plugins.connect(fig, plugins.PointLabelTooltip(ll.lines[0], labels=labels))"
     ],
     "language": "python",
     "metadata": {},
     "outputs": []
    },
    {
     "cell_type": "code",
     "collapsed": false,
     "input": [
      "fig, ax = plt.subplots()\n",
      "ll = ind.AO.plot(style='-o')\n",
      "ll = ind.NAO.plot(style='-o')\n",
      "#plugins.clear(fig)  # clear all plugins from the figure\n",
      "labels = list(ind[:].AO.values)\n",
      "labels2 = list(ind[:].NAO.values)\n",
      "\n",
      "plugins.connect(fig, plugins.PointLabelTooltip(ll.lines[0], labels=labels))\n",
      "plugins.connect(fig, plugins.PointLabelTooltip(ll.lines[1], labels=labels2))"
     ],
     "language": "python",
     "metadata": {},
     "outputs": []
    },
    {
     "cell_type": "code",
     "collapsed": false,
     "input": [],
     "language": "python",
     "metadata": {},
     "outputs": []
    }
   ],
   "metadata": {}
  }
 ]
}