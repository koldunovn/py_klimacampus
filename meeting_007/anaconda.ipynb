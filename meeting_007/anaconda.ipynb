{
 "metadata": {
  "name": "",
  "signature": "sha256:1459faab86f0cbbe6516424bc91ecc17734e4e33d038160847748cfa74e74fd1"
 },
 "nbformat": 3,
 "nbformat_minor": 0,
 "worksheets": [
  {
   "cells": [
    {
     "cell_type": "heading",
     "level": 1,
     "metadata": {},
     "source": [
      "Anaconda"
     ]
    },
    {
     "cell_type": "markdown",
     "metadata": {},
     "source": [
      "[Anaconda](https://store.continuum.io/cshop/anaconda/) - Python distribution for large-scale data processing, predictive analytics, and scientific computing.\n",
      "\n",
      "For our purposes I prefer [miniconda](http://conda.pydata.org/miniconda.html#miniconda). It will install only python and conda.\n",
      "\n",
      "[Conda](http://conda.pydata.org/docs/index.html) - conda package and environment management system."
     ]
    },
    {
     "cell_type": "heading",
     "level": 2,
     "metadata": {},
     "source": [
      "Installation"
     ]
    },
    {
     "cell_type": "markdown",
     "metadata": {},
     "source": [
      "Download miniconda and\n",
      "\n",
      "    bash <downloaded file>\n",
      "   \n",
      "It will ask you couple of questions, and install miniconda in a specified folder. As a last step it will try to put `miniconda` folder in to your `PATH`. This might fail on `CIS` systems, since we use `csh`. In this case you have to add path  to your `.cshrc` by yourselves:\n",
      "\n",
      "    setenv PATH /home/zmaw/u241057/miniconda/bin:${PATH}"
     ]
    },
    {
     "cell_type": "heading",
     "level": 2,
     "metadata": {},
     "source": [
      "Usage"
     ]
    },
    {
     "cell_type": "markdown",
     "metadata": {},
     "source": [
      "To install packages you have to type something like:\n",
      "\n",
      "    conda install pandas"
     ]
    },
    {
     "cell_type": "markdown",
     "metadata": {},
     "source": [
      "To update packages:\n",
      "\n",
      "    conda update numpy"
     ]
    },
    {
     "cell_type": "markdown",
     "metadata": {},
     "source": [
      "Search packages:\n",
      "    \n",
      "    conda search ipython"
     ]
    },
    {
     "cell_type": "markdown",
     "metadata": {},
     "source": [
      "Help:\n",
      "    \n",
      "    conda -h"
     ]
    }
   ],
   "metadata": {}
  }
 ]
}